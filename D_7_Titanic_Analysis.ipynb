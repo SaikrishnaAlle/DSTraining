{
  "cells": [
    {
      "cell_type": "code",
      "execution_count": 4,
      "metadata": {
        "id": "kfdu-Gawx4eK"
      },
      "outputs": [],
      "source": [
        "import pandas as pd\n",
        "import numpy as np"
      ]
    },
    {
      "cell_type": "code",
      "execution_count": 3,
      "metadata": {
        "id": "9nwF96Fyx7du"
      },
      "outputs": [],
      "source": [
        "data=pd.read_excel(\"files/Titanic.xlsx\")\n",
        "data.head()"
      ]
    },
    {
      "cell_type": "markdown",
      "metadata": {
        "id": "ANuFcnIH4RIn"
      },
      "source": [
        "fetch all the rows that are divisible 2 and 3 but not 6"
      ]
    },
    {
      "cell_type": "code",
      "execution_count": null,
      "metadata": {
        "id": "ziW6TOuY4LQl"
      },
      "outputs": [],
      "source": [
        "def lockin(data):\n",
        "  if data.iloc[::]%2==0 or data.iloc[::]%3==0 and data.iloc[::]%6!=0 :\n",
        "    return data\n"
      ]
    },
    {
      "cell_type": "code",
      "execution_count": null,
      "metadata": {
        "colab": {
          "base_uri": "https://localhost:8080/",
          "height": 424
        },
        "id": "f0wf466U50nZ",
        "outputId": "5c2dac57-6c54-4b69-d269-320c9e9fd27e"
      },
      "outputs": [],
      "source": [
        "data.loc[list(filter(lambda x:x %2==0 or x%3==0 and x%6!=0 , range(0,891)))]"
      ]
    },
    {
      "cell_type": "code",
      "execution_count": null,
      "metadata": {
        "colab": {
          "base_uri": "https://localhost:8080/",
          "height": 424
        },
        "id": "si45xJgE8UAg",
        "outputId": "1934c9de-e035-42c3-ed1a-78a15c1f71a7"
      },
      "outputs": [],
      "source": [
        "ds=data.iloc[[i for i in range(0,891) if '6' not in str(i) and '7' not in str(i)]]\n",
        "ds.iloc[0:,-1:-3:-1]\n"
      ]
    },
    {
      "cell_type": "code",
      "execution_count": null,
      "metadata": {
        "id": "RFkiYXbU9E6k"
      },
      "outputs": [],
      "source": [
        "#data.loc[list(filter[lambda x:((x%10)!=6) & ((x%10)!=7),range(0,891)]),[\"Name\",\"Gender\"]]"
      ]
    },
    {
      "cell_type": "code",
      "execution_count": null,
      "metadata": {
        "colab": {
          "base_uri": "https://localhost:8080/"
        },
        "id": "B8s13DBYBlNB",
        "outputId": "69afa961-d0d1-4c09-b4c4-f61c6b966c47"
      },
      "outputs": [],
      "source": [
        "data.columns"
      ]
    },
    {
      "cell_type": "markdown",
      "metadata": {
        "id": "WoVOXiEIB9Rz"
      },
      "source": [
        "get all the columns which stated with p"
      ]
    },
    {
      "cell_type": "code",
      "execution_count": null,
      "metadata": {
        "colab": {
          "base_uri": "https://localhost:8080/",
          "height": 1000
        },
        "id": "IQKrWxXOB5Wd",
        "outputId": "4c147035-4562-4255-fd58-224242fcc463"
      },
      "outputs": [],
      "source": [
        "d=data[data[\"Gender\"]==\"male\"]\n",
        "d[d[\"Age\"]<18]"
      ]
    },
    {
      "cell_type": "code",
      "execution_count": null,
      "metadata": {
        "colab": {
          "base_uri": "https://localhost:8080/",
          "height": 1000
        },
        "id": "YDk_jQqipeQJ",
        "outputId": "b06e9cda-fc9b-4ac4-a421-282db789ad3c"
      },
      "outputs": [],
      "source": [
        "data[(data[\"Gender\"]==\"male\") & (data[\"Age\"]<18)]"
      ]
    },
    {
      "cell_type": "markdown",
      "metadata": {
        "id": "ahBz1mVyrWgw"
      },
      "source": [
        "get male data who survied"
      ]
    },
    {
      "cell_type": "code",
      "execution_count": null,
      "metadata": {
        "colab": {
          "base_uri": "https://localhost:8080/",
          "height": 424
        },
        "id": "MgUND2Z-qTwc",
        "outputId": "0255081d-1531-460b-f79c-c45f51f3c3db"
      },
      "outputs": [],
      "source": [
        "data[(data[\"Gender\"]==\"male\") & (data[\"Survived\"]==1)]"
      ]
    },
    {
      "cell_type": "code",
      "execution_count": null,
      "metadata": {
        "colab": {
          "base_uri": "https://localhost:8080/",
          "height": 424
        },
        "id": "JrnaH1G5rg2o",
        "outputId": "67cd4713-857a-49a8-e856-b474cfe9d2cb"
      },
      "outputs": [],
      "source": [
        "data[(data[\"Gender\"]==\"female\") & (data[\"Survived\"]==0)]"
      ]
    },
    {
      "cell_type": "code",
      "execution_count": null,
      "metadata": {
        "colab": {
          "base_uri": "https://localhost:8080/"
        },
        "id": "XsjpxNmlrqQC",
        "outputId": "d480c8fa-19b6-412a-a969-84ef886cb22f"
      },
      "outputs": [],
      "source": [
        "sur=data[(data[\"Gender\"]==\"male\") & (data[\"Survived\"]==1)]\n",
        "males=data[data[\"Gender\"]==\"male\"]\n",
        "\n",
        "per=(len(sur)/len(males))*100\n",
        "per"
      ]
    },
    {
      "cell_type": "code",
      "execution_count": null,
      "metadata": {
        "colab": {
          "base_uri": "https://localhost:8080/"
        },
        "id": "hcJOPBoyvL6A",
        "outputId": "0e9ab1bb-950c-42cc-948b-8b87cfa2d739"
      },
      "outputs": [],
      "source": [
        "len(males)"
      ]
    },
    {
      "cell_type": "code",
      "execution_count": null,
      "metadata": {
        "colab": {
          "base_uri": "https://localhost:8080/"
        },
        "id": "dEi4jkdPr6VB",
        "outputId": "cf7e56ec-643c-40f8-c19e-1bd7e2fe8875"
      },
      "outputs": [],
      "source": [
        "fsr=data[(data[\"Gender\"]==\"female\") & (data[\"Survived\"]==1)]\n",
        "\n",
        "females=data[data[\"Gender\"]==\"female\"]\n",
        "fper=(len(fsr)/len(females))*100\n",
        "fper"
      ]
    },
    {
      "cell_type": "code",
      "execution_count": null,
      "metadata": {
        "colab": {
          "base_uri": "https://localhost:8080/"
        },
        "id": "z-rn-m6gsUHP",
        "outputId": "d44f54ba-9a83-43f1-ea75-4e48648b2d4d"
      },
      "outputs": [],
      "source": [
        "one=data[(data[\"Pclass\"]==1) & (data[\"Survived\"]==1)]\n",
        "\n",
        "Sur=data[data[\"Pclass\"]==1]\n",
        "sper=(len(one)/len(Sur))*100\n",
        "sper"
      ]
    },
    {
      "cell_type": "code",
      "execution_count": null,
      "metadata": {
        "colab": {
          "base_uri": "https://localhost:8080/"
        },
        "id": "aJHq-rnms3RS",
        "outputId": "0bc8d660-fa47-414c-df2d-1218164e7eb8"
      },
      "outputs": [],
      "source": [
        "Two=data[(data[\"Pclass\"]==2) & (data[\"Survived\"]==1)]\n",
        "\n",
        "Sur=data[data[\"Pclass\"]==2]\n",
        "\n",
        "sper=(len(Two)/len(Sur))*100\n",
        "sper"
      ]
    },
    {
      "cell_type": "code",
      "execution_count": null,
      "metadata": {
        "id": "cm0y49i9yIla"
      },
      "outputs": [],
      "source": []
    },
    {
      "cell_type": "code",
      "execution_count": null,
      "metadata": {
        "colab": {
          "base_uri": "https://localhost:8080/"
        },
        "id": "hYErktQivzTS",
        "outputId": "e1301489-52a2-47db-f1c8-a9ceaeb4327a"
      },
      "outputs": [],
      "source": [
        "Three=data[(data[\"Pclass\"]==3) & (data[\"Survived\"]==1)]\n",
        "\n",
        "Sur=data[data[\"Pclass\"]==3]\n",
        "\n",
        "sper=(len(Three)/len(Sur))*100\n",
        "sper"
      ]
    },
    {
      "cell_type": "code",
      "execution_count": null,
      "metadata": {
        "colab": {
          "base_uri": "https://localhost:8080/",
          "height": 424
        },
        "id": "4duGIOoZyJn6",
        "outputId": "f35be9fe-ce84-4156-f1ef-11f50be8a661"
      },
      "outputs": [],
      "source": [
        "data[data[\"Name\"].str.contains(\"Mrs\")]"
      ]
    },
    {
      "cell_type": "code",
      "execution_count": null,
      "metadata": {
        "colab": {
          "base_uri": "https://localhost:8080/"
        },
        "id": "tkiacz9BwEz8",
        "outputId": "2a134b68-42ee-4b8d-9d2f-db0113688bec"
      },
      "outputs": [],
      "source": [
        "for i in data[\"Name\"]:\n",
        "  if \"Mrs\" in i:\n",
        "    print(i)"
      ]
    },
    {
      "cell_type": "code",
      "execution_count": null,
      "metadata": {
        "colab": {
          "base_uri": "https://localhost:8080/",
          "height": 424
        },
        "id": "vdnl6tr7yYnh",
        "outputId": "b60774f5-5c4c-4994-926c-127a29b6b572"
      },
      "outputs": [],
      "source": [
        "data[list(map(lambda x:x.__contains__(\"Mrs\"),data[\"Name\"]))]"
      ]
    },
    {
      "cell_type": "code",
      "execution_count": null,
      "metadata": {
        "colab": {
          "base_uri": "https://localhost:8080/"
        },
        "id": "VvOKvTUr0VlS",
        "outputId": "238fe8de-e5b1-47cc-9d4f-6888dac1543b"
      },
      "outputs": [],
      "source": [
        "l=list(filter(lambda x:x.__contains__(\"(\" ),data[\"Name\"]))\n",
        "ls=[]\n",
        "for i in l:\n",
        "  x=i.index(\"(\")\n",
        "  y=i.index(\")\")\n",
        "  ls.append(i[x+1:y-1])\n",
        "ls"
      ]
    },
    {
      "cell_type": "code",
      "execution_count": null,
      "metadata": {
        "colab": {
          "base_uri": "https://localhost:8080/"
        },
        "id": "kKqaGPG91spg",
        "outputId": "3c712922-6c91-4fdd-b21f-f556b121b582"
      },
      "outputs": [],
      "source": [
        "for i in data[\"Name\"]:\n",
        "  if \"(\" in i:\n",
        "    print(i)"
      ]
    },
    {
      "cell_type": "code",
      "execution_count": null,
      "metadata": {
        "colab": {
          "base_uri": "https://localhost:8080/"
        },
        "id": "qAaJCP6b26f_",
        "outputId": "c11bbb8f-7811-430e-d036-fb2445f5fbfb"
      },
      "outputs": [],
      "source": [
        "data[\"Name\"].str.upper()"
      ]
    },
    {
      "cell_type": "code",
      "execution_count": null,
      "metadata": {
        "colab": {
          "base_uri": "https://localhost:8080/"
        },
        "id": "Y-eue73J8y3N",
        "outputId": "a65b7f6f-e56e-4969-d83f-6459d448cf4f"
      },
      "outputs": [],
      "source": [
        "data[\"Name\"].str.split(\"(\").str[0].str.capitalize().str.split()"
      ]
    },
    {
      "cell_type": "code",
      "execution_count": null,
      "metadata": {
        "colab": {
          "base_uri": "https://localhost:8080/"
        },
        "id": "YsH6kXAF9APZ",
        "outputId": "89eafbd4-c1c2-4a87-d706-24409368f653"
      },
      "outputs": [],
      "source": [
        "data[\"Name\"].str.replace(\"(\",\"{\").str.replace(\")\",\"}\")"
      ]
    },
    {
      "cell_type": "code",
      "execution_count": null,
      "metadata": {
        "colab": {
          "base_uri": "https://localhost:8080/"
        },
        "id": "QQkJZPxG-Bnz",
        "outputId": "a4367a65-b605-41ae-a1ee-182713976e14"
      },
      "outputs": [],
      "source": [
        "data[\"Name\"].str.len()\n"
      ]
    },
    {
      "cell_type": "code",
      "execution_count": null,
      "metadata": {
        "colab": {
          "base_uri": "https://localhost:8080/",
          "height": 424
        },
        "id": "x0-FmigC_9I3",
        "outputId": "bdff887a-2d22-4132-c2b9-3d7e268bbf96"
      },
      "outputs": [],
      "source": [
        "data1=data.copy()\n",
        "data1.loc[data1[\"Age\"]>50,\"Age\"]=70\n",
        "data1[data1[\"Age\"]>50]"
      ]
    },
    {
      "cell_type": "code",
      "execution_count": null,
      "metadata": {
        "colab": {
          "base_uri": "https://localhost:8080/",
          "height": 424
        },
        "id": "TwlhstYIBX3N",
        "outputId": "8b812196-2194-4150-f668-3699eec3ff53"
      },
      "outputs": [],
      "source": [
        "d=data[\"Gender\"]==\"male\"\n",
        "data.loc[d,'Fare'] =data.Fare* (1.1)\n",
        "data"
      ]
    },
    {
      "cell_type": "code",
      "execution_count": null,
      "metadata": {
        "id": "hU-TkaUgEv6a"
      },
      "outputs": [],
      "source": [
        "#decrease female fare first clas by 20"
      ]
    },
    {
      "cell_type": "code",
      "execution_count": null,
      "metadata": {
        "colab": {
          "base_uri": "https://localhost:8080/",
          "height": 424
        },
        "id": "AAS92WfEDge7",
        "outputId": "307d507a-8d51-4df9-e5d9-da46b4187d92"
      },
      "outputs": [],
      "source": [
        "#d=data[(data[\"Gender\"]==\"female\") & (data[\"Pclass\"]==1)]\n",
        "data.loc[(data[\"Gender\"]==\"female\") & (data[\"Pclass\"]==1),'Fare'] =data.Fare* (.8)\n",
        "data"
      ]
    },
    {
      "cell_type": "markdown",
      "metadata": {
        "id": "_x40gk0YG3zr"
      },
      "source": [
        "get all the data which does not cotain miss word"
      ]
    },
    {
      "cell_type": "code",
      "execution_count": null,
      "metadata": {
        "colab": {
          "base_uri": "https://localhost:8080/"
        },
        "id": "r1p4Zp0sFDjy",
        "outputId": "f46842a5-c9b6-403e-8974-37395fa2b2ab"
      },
      "outputs": [],
      "source": [
        "l=data[data['Name'].str.contains(\"Miss.\")]\n",
        "ls=[]\n",
        "for i in l:\n",
        "  for j in data[\"Name\"]:\n",
        "    if i !=j:\n",
        "      ls.append(j)\n",
        "ls\n"
      ]
    },
    {
      "cell_type": "code",
      "execution_count": null,
      "metadata": {
        "colab": {
          "base_uri": "https://localhost:8080/",
          "height": 424
        },
        "id": "mkeIpgdoFPb0",
        "outputId": "4d2d29a3-7643-4c1b-ef9c-a6d0e475583c"
      },
      "outputs": [],
      "source": [
        "data[~data[\"Name\"].str.contains(\"Miss\")]"
      ]
    },
    {
      "cell_type": "markdown",
      "metadata": {
        "id": "Co-vFvsMUwFH"
      },
      "source": [
        "1. How many passengers were on the Titanic, and how many survived?"
      ]
    },
    {
      "cell_type": "code",
      "execution_count": null,
      "metadata": {
        "colab": {
          "base_uri": "https://localhost:8080/"
        },
        "id": "knt0SNsnWTTw",
        "outputId": "a3c93c20-1012-4eca-d8dd-a62827ff6c2a"
      },
      "outputs": [],
      "source": [
        "data[\"Survived\"].count()"
      ]
    },
    {
      "cell_type": "code",
      "execution_count": null,
      "metadata": {
        "colab": {
          "base_uri": "https://localhost:8080/"
        },
        "id": "SbejkzKyWJ7C",
        "outputId": "4e68c52a-e620-4c50-9ef4-13bfb936ef4f"
      },
      "outputs": [],
      "source": [
        "data[\"Survived\"].value_counts()"
      ]
    },
    {
      "cell_type": "code",
      "execution_count": null,
      "metadata": {
        "colab": {
          "base_uri": "https://localhost:8080/"
        },
        "id": "MbIvYIjaVbN3",
        "outputId": "d84bcec1-058c-4972-d73b-6359d41a5c59"
      },
      "outputs": [],
      "source": [
        "total_num=data.shape[0]\n",
        "sur=len(data[data[\"Survived\"]==1])\n",
        "print(total_num,sur)"
      ]
    },
    {
      "cell_type": "markdown",
      "metadata": {
        "id": "Bmi_IQX9U8MN"
      },
      "source": [
        "2. What is the average age of passengers on the Titanic?"
      ]
    },
    {
      "cell_type": "code",
      "execution_count": null,
      "metadata": {
        "colab": {
          "base_uri": "https://localhost:8080/"
        },
        "id": "NRHPSr_rWfZb",
        "outputId": "326d5082-35ad-40fc-9418-27240487c612"
      },
      "outputs": [],
      "source": [
        "data[\"Age\"].mean()"
      ]
    },
    {
      "cell_type": "markdown",
      "metadata": {
        "id": "uhVcPudWU_wD"
      },
      "source": [
        "3. What was the distribution of passenger classes (1st, 2nd, 3rd)?\n"
      ]
    },
    {
      "cell_type": "code",
      "execution_count": null,
      "metadata": {
        "colab": {
          "base_uri": "https://localhost:8080/"
        },
        "id": "10cuUG_BXZJJ",
        "outputId": "f1e1670b-3e08-46ff-83fb-fc71ed171c68"
      },
      "outputs": [],
      "source": [
        "data[\"Pclass\"].value_counts(normalize=True)\n"
      ]
    },
    {
      "cell_type": "markdown",
      "metadata": {
        "id": "QTSpVpsgVDI1"
      },
      "source": [
        "4. How many male and female passengers were on the Titanic?"
      ]
    },
    {
      "cell_type": "code",
      "execution_count": null,
      "metadata": {
        "colab": {
          "base_uri": "https://localhost:8080/"
        },
        "id": "4iPPs2z2X-WS",
        "outputId": "35387b0a-311d-4935-c704-f6d3bf411a09"
      },
      "outputs": [],
      "source": [
        "data[\"Gender\"].value_counts(normalize=True)"
      ]
    },
    {
      "cell_type": "code",
      "execution_count": null,
      "metadata": {
        "id": "5KVEDpjPH9m9"
      },
      "outputs": [],
      "source": [
        "x=\"fgrhgjn\"\n",
        "x[0]"
      ]
    },
    {
      "cell_type": "code",
      "execution_count": null,
      "metadata": {
        "colab": {
          "base_uri": "https://localhost:8080/"
        },
        "id": "zqeX9_jQbXll",
        "outputId": "b3225ba8-e48b-45a4-b476-dda3e4b7bd42"
      },
      "outputs": [],
      "source": [
        "data[\"Ticket\"].nunique()"
      ]
    },
    {
      "cell_type": "code",
      "execution_count": null,
      "metadata": {
        "id": "ToqHYx7kvgAv"
      },
      "outputs": [],
      "source": []
    }
  ],
  "metadata": {
    "colab": {
      "provenance": []
    },
    "kernelspec": {
      "display_name": "Python 3",
      "name": "python3"
    },
    "language_info": {
      "codemirror_mode": {
        "name": "ipython",
        "version": 3
      },
      "file_extension": ".py",
      "mimetype": "text/x-python",
      "name": "python",
      "nbconvert_exporter": "python",
      "pygments_lexer": "ipython3",
      "version": "3.11.7"
    }
  },
  "nbformat": 4,
  "nbformat_minor": 0
}
