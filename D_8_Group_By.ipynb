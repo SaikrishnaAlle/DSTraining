{
 "cells": [
  {
   "cell_type": "code",
   "execution_count": null,
   "metadata": {},
   "outputs": [],
   "source": [
    "!pip install pandas\n",
    "!pip install numpy"
   ]
  },
  {
   "cell_type": "code",
   "execution_count": null,
   "metadata": {},
   "outputs": [],
   "source": [
    "import pandas as pd\n",
    "import numpy as np\n",
    "pd.set_option('display.max_rows', 100)\n",
    "pd.set_option('display.max_columns', 100)"
   ]
  },
  {
   "cell_type": "code",
   "execution_count": null,
   "metadata": {},
   "outputs": [],
   "source": [
    "df = pd.read_excel(\"files/superstore-subset.xlsx\")\n",
    "df.head()"
   ]
  },
  {
   "cell_type": "markdown",
   "metadata": {},
   "source": [
    "1. Find out Loss Making Products Region-wise."
   ]
  },
  {
   "cell_type": "code",
   "execution_count": null,
   "metadata": {},
   "outputs": [],
   "source": [
    "def LossMakingProductss(data, columns, value, sortColumns, orderlist, aggfunc):\n",
    "    dataFrame = data.groupby(columns).agg({\n",
    "        value: aggfunc\n",
    "    })\n",
    "    LossMakingProducts = dataFrame[dataFrame[value] < 0].sort_values(by=sortColumns , ascending=orderlist).reset_index()\n",
    "    return LossMakingProducts\n",
    "LossMakingProducts= LossMakingProductss(df, ['Region','Product Name'], 'Profit', ['Region', 'Profit'], [True, True], 'sum')\n",
    "LossMakingProducts"
   ]
  },
  {
   "cell_type": "markdown",
   "metadata": {},
   "source": [
    "2. Which Product is the Highest Loss Making in the East Region?"
   ]
  },
  {
   "cell_type": "code",
   "execution_count": null,
   "metadata": {},
   "outputs": [],
   "source": [
    "HighestLossMakingProductInEastRegion= LossMakingProducts[LossMakingProducts['Region'] == 'East'].head(1).reset_index()\n",
    "print(f\"Highest Loss Making Product In East Region: {HighestLossMakingProductInEastRegion['Product Name'][0]}, with {HighestLossMakingProductInEastRegion['Profit'][0]}.\")"
   ]
  },
  {
   "cell_type": "markdown",
   "metadata": {},
   "source": [
    "3. What are the Technology Products that are not able to make a Profit?"
   ]
  },
  {
   "cell_type": "code",
   "execution_count": null,
   "metadata": {},
   "outputs": [],
   "source": [
    "LossMakingTechnologyProducts= LossMakingProductss(df[df['Product Category'] == 'Technology'], ['Region','Product Name'], 'Profit', ['Region', 'Profit'], [True, True], 'sum')\n",
    "LossMakingTechnologyProducts"
   ]
  },
  {
   "cell_type": "markdown",
   "metadata": {},
   "source": [
    "4. Determine the total loss per Category and Sub-Category."
   ]
  },
  {
   "cell_type": "code",
   "execution_count": null,
   "metadata": {},
   "outputs": [],
   "source": [
    "lossPerSubCategory = LossMakingProductss(df, ['Product Category','Product Sub-Category'], 'Profit', ['Profit'], [True],'sum')\n",
    "lossPerSubCategory[lossPerSubCategory[\"Profit\"] < 0]"
   ]
  },
  {
   "cell_type": "markdown",
   "metadata": {},
   "source": [
    "5. Identify the Region with the highest total loss."
   ]
  },
  {
   "cell_type": "code",
   "execution_count": null,
   "metadata": {},
   "outputs": [],
   "source": [
    "LossMakingProducts= LossMakingProductss(df, ['Region'], 'Profit', ['Profit'], [True], 'sum')\n",
    "LossMakingProducts"
   ]
  },
  {
   "cell_type": "markdown",
   "metadata": {},
   "source": [
    "6. Find the top 5 loss-making products in the South Region."
   ]
  },
  {
   "cell_type": "code",
   "execution_count": null,
   "metadata": {},
   "outputs": [],
   "source": [
    "Top5LossMakingProductsInSouthRegion= LossMakingProductss(df[df['Region'] == 'South'], ['Region','Product Name'], 'Profit', ['Profit'], [True], 'sum').head()\n",
    "Top5LossMakingProductsInSouthRegion"
   ]
  },
  {
   "cell_type": "markdown",
   "metadata": {},
   "source": [
    "7. List the Sub-Categories in the Central Region that are making a loss."
   ]
  },
  {
   "cell_type": "code",
   "execution_count": null,
   "metadata": {},
   "outputs": [],
   "source": [
    "LossMakingProductsInCentralRegion= LossMakingProductss(df[df['Region'] == 'Central'], ['Region','Product Sub-Category'], 'Profit', ['Profit'], [True], 'sum')['Product Sub-Category']\n",
    "list(LossMakingProductsInCentralRegion)"
   ]
  },
  {
   "cell_type": "markdown",
   "metadata": {},
   "source": [
    "8. Which Manufacturer (based on a hypothetical 'Manufacturer' column) has the highest total loss?"
   ]
  },
  {
   "cell_type": "markdown",
   "metadata": {},
   "source": [
    "9. Find the average loss per product in the West Region."
   ]
  },
  {
   "cell_type": "code",
   "execution_count": null,
   "metadata": {},
   "outputs": [],
   "source": [
    "AverageLossMakingProductsInWestRegion= LossMakingProductss(df[df['Region'] == 'West'], ['Region','Product Name'], 'Profit', ['Profit'], [True], 'mean')\n",
    "AverageLossMakingProductsInWestRegion"
   ]
  },
  {
   "cell_type": "markdown",
   "metadata": {},
   "source": [
    "10. Identify the Segment with the highest average loss per order."
   ]
  },
  {
   "cell_type": "code",
   "execution_count": null,
   "metadata": {},
   "outputs": [],
   "source": [
    "AverageLossperOrder= LossMakingProductss(df, ['Customer Segment','Order ID'], 'Profit', ['Profit'], [True], 'mean')\n",
    "HighestAvgLossperOrderSegment= LossMakingProductss(AverageLossperOrder, ['Customer Segment'], 'Profit', ['Profit'], [True], 'max').head(1)\n",
    "HighestAvgLossperOrderSegment"
   ]
  },
  {
   "cell_type": "markdown",
   "metadata": {},
   "source": [
    "11. What is the total loss for each Region and Segment combination?"
   ]
  },
  {
   "cell_type": "code",
   "execution_count": null,
   "metadata": {},
   "outputs": [],
   "source": [
    "lossforEachComboOfRegionAndSegment= LossMakingProductss(df, ['Region', 'Customer Segment'], 'Profit', ['Profit'], [True], 'sum')\n",
    "lossforEachComboOfRegionAndSegment"
   ]
  },
  {
   "cell_type": "markdown",
   "metadata": {},
   "source": [
    "12. Which Category has the highest average loss per sale in the East Region?"
   ]
  },
  {
   "cell_type": "code",
   "execution_count": null,
   "metadata": {},
   "outputs": [],
   "source": [
    "AverageLossperOrder= LossMakingProductss(df[df['Region'] == 'East'], ['Product Category'], 'Sales', ['Sales'], [True], 'mean')\n",
    "AverageLossperOrder\n"
   ]
  },
  {
   "cell_type": "markdown",
   "metadata": {},
   "source": [
    "13. Find the loss-making products that have been ordered more than 5 times."
   ]
  },
  {
   "cell_type": "code",
   "execution_count": null,
   "metadata": {},
   "outputs": [],
   "source": [
    "productStats = df.groupby('Product Name').agg({\n",
    "    'Product Name': 'count',\n",
    "    'Profit': 'sum'\n",
    "}).rename(columns= {'Product Name':'Repeated count'})\n",
    "LossMakingproducts= productStats[productStats['Repeated count'] > 4]\n",
    "LossMakingproductsThatHaveBeenOrderedMoreThan5Times=LossMakingproducts[LossMakingproducts['Profit'] < 0].reset_index()\n",
    "LossMakingproductsThatHaveBeenOrderedMoreThan5Times"
   ]
  },
  {
   "cell_type": "markdown",
   "metadata": {},
   "source": [
    "14. Determine the month and year with the highest total loss"
   ]
  },
  {
   "cell_type": "code",
   "execution_count": null,
   "metadata": {},
   "outputs": [],
   "source": [
    "df['Order Date'] = pd.to_datetime(df['Order Date'])\n",
    "df['Year'] = df['Order Date'].dt.year\n",
    "df['Month'] = df['Order Date'].dt.month\n",
    "HighestTotalLossMonthAndYear= LossMakingProductss(df, ['Year', 'Month'], 'Profit', ['Profit'], [True], 'sum').head(1)\n",
    "HighestTotalLossMonthAndYear"
   ]
  },
  {
   "cell_type": "markdown",
   "metadata": {},
   "source": [
    "15. Identify the top 3 loss-making products that have the highest discount applied."
   ]
  },
  {
   "cell_type": "code",
   "execution_count": null,
   "metadata": {},
   "outputs": [],
   "source": [
    "topLossMakingProductsthathaveTheHighestDiscountApplied = LossMakingProductss(df, ['Product Name', 'Discount'], 'Profit', ['Discount'], [False], 'sum').head(3)\n",
    "topLossMakingProductsthathaveTheHighestDiscountApplied"
   ]
  }
 ],
 "metadata": {
  "kernelspec": {
   "display_name": "Python 3",
   "language": "python",
   "name": "python3"
  },
  "language_info": {
   "codemirror_mode": {
    "name": "ipython",
    "version": 3
   },
   "file_extension": ".py",
   "mimetype": "text/x-python",
   "name": "python",
   "nbconvert_exporter": "python",
   "pygments_lexer": "ipython3",
   "version": "3.11.7"
  }
 },
 "nbformat": 4,
 "nbformat_minor": 2
}
