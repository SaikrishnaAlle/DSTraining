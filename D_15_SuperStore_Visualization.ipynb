{
 "cells": [
  {
   "cell_type": "code",
   "execution_count": null,
   "metadata": {},
   "outputs": [],
   "source": [
    "import pandas as pd\n",
    "import matplotlib.pyplot as plt\n",
    "import seaborn as sns\n",
    "import ipywidgets as widgets"
   ]
  },
  {
   "cell_type": "code",
   "execution_count": null,
   "metadata": {},
   "outputs": [],
   "source": [
    "df = pd.read_excel('files/superstore-subset.xlsx')\n",
    "df"
   ]
  },
  {
   "cell_type": "code",
   "execution_count": null,
   "metadata": {},
   "outputs": [],
   "source": [
    "c = widgets.Dropdown(\n",
    "   options = ['Product Sub-Category','Product Category','Customer Segment','Region'],\n",
    "    value = 'Product Category',\n",
    "    description = 'Graph',\n",
    "    disabled = False \n",
    ")\n",
    "\n",
    "def mygraph(p):\n",
    "    sns.barplot(x = 'Profit', y = p, data = df, estimator = 'sum')\n",
    "    plt.show()\n",
    "\n",
    "widgets.interact(mygraph, p = c)"
   ]
  },
  {
   "cell_type": "code",
   "execution_count": null,
   "metadata": {},
   "outputs": [],
   "source": [
    "c = widgets.Dropdown(\n",
    "   options = ['Product Sub-Category','Product Category','Customer Segment','Region'],\n",
    "    value = 'Product Category',\n",
    "    description = 'y-Data',\n",
    "    disabled = False \n",
    ")\n",
    "\n",
    "h = widgets.Dropdown(\n",
    "   options = ['Sales','Profit','Discount'],\n",
    "    value = 'Profit',\n",
    "    description = 'x-Data',\n",
    "    disabled = False \n",
    ")\n",
    "\n",
    "\n",
    "def mygraph(p,q):\n",
    "    plt.title(p+'Vs'+q)\n",
    "    sns.barplot(x = q, y = p, data = df, estimator = 'sum')\n",
    "    plt.show()\n",
    "\n",
    "widgets.interact(mygraph, p=c, q=h)"
   ]
  },
  {
   "cell_type": "code",
   "execution_count": null,
   "metadata": {},
   "outputs": [],
   "source": [
    "sns.boxplot(x = 'Product Sub-Category', y = 'Sales', data = df)"
   ]
  },
  {
   "cell_type": "code",
   "execution_count": null,
   "metadata": {},
   "outputs": [],
   "source": [
    "\n",
    "# Creating the box plot\n",
    "\n",
    "df.boxplot(column='Sales', by='Product Sub-Category', patch_artist=True)\n",
    "\n",
    "plt.show()\n",
    "\n",
    " "
   ]
  }
 ],
 "metadata": {
  "kernelspec": {
   "display_name": "Python 3",
   "language": "python",
   "name": "python3"
  },
  "language_info": {
   "codemirror_mode": {
    "name": "ipython",
    "version": 3
   },
   "file_extension": ".py",
   "mimetype": "text/x-python",
   "name": "python",
   "nbconvert_exporter": "python",
   "pygments_lexer": "ipython3",
   "version": "3.11.7"
  }
 },
 "nbformat": 4,
 "nbformat_minor": 2
}
