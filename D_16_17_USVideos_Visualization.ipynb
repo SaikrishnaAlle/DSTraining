{
 "cells": [
  {
   "cell_type": "code",
   "execution_count": null,
   "metadata": {},
   "outputs": [],
   "source": [
    "import pandas as pd\n",
    "import matplotlib.pyplot as plt\n",
    "import seaborn as sns\n",
    "import ipywidgets as widgets\n",
    "from ipywidgets import interact\n",
    "import json\n",
    "import warnings\n",
    "warnings.filterwarnings('ignore', category=FutureWarning)"
   ]
  },
  {
   "cell_type": "code",
   "execution_count": null,
   "metadata": {},
   "outputs": [],
   "source": [
    "df = pd.read_csv(\"files/USvideos.csv\")\n",
    "df.isnull().sum()"
   ]
  },
  {
   "cell_type": "code",
   "execution_count": null,
   "metadata": {},
   "outputs": [],
   "source": [
    "df[\"description\"] = df['description'].fillna(\"No Description\")\n",
    "duplicates = df.duplicated().sum()\n",
    "df_cleaned = df.drop_duplicates()\n",
    "duplicates_after_cleaning = df_cleaned.duplicated().sum()\n",
    "print(f'Number of Duplicates Before cleaning: {duplicates}\\nNumber of Duplicates After cleaning: {duplicates_after_cleaning}')\n",
    "df.isnull().sum()"
   ]
  },
  {
   "cell_type": "code",
   "execution_count": null,
   "metadata": {},
   "outputs": [],
   "source": [
    "with open('files/US_category_id.json', 'r') as file:\n",
    "    data = json.load(file)\n",
    "items = data['items']\n",
    "json_data = pd.json_normalize(items)\n",
    "json_data.rename(columns={'snippet.title': 'Genre','id':'category_id'}, inplace=True)\n",
    "json_data['category_id']= json_data['category_id'].astype('int')\n",
    "\n",
    "df = pd.merge(df,json_data, on= 'category_id')\n",
    "df.drop(['kind', 'etag', 'snippet.channelId','snippet.assignable','category_id'], axis=1, inplace=True)\n",
    "print(df.isnull().sum())\n",
    "df.dtypes"
   ]
  },
  {
   "cell_type": "code",
   "execution_count": null,
   "metadata": {},
   "outputs": [],
   "source": [
    "df['trending_date'] = pd.to_datetime(df['trending_date'], format = '%y.%d.%m')\n",
    "df['publish_time']= pd.to_datetime(df['publish_time'])\n",
    "df.dtypes"
   ]
  },
  {
   "cell_type": "code",
   "execution_count": null,
   "metadata": {},
   "outputs": [],
   "source": [
    "def plot_dist(column):\n",
    "    plt.figure(figsize=(10, 6))\n",
    "    sns.histplot(df[column], bins=50, kde=True)\n",
    "    plt.title(f'Distribution of {column}')\n",
    "    plt.show()\n",
    "\n",
    "def plot_joint(x, y, kind='scatter'):\n",
    "    sns.jointplot(x=x, y=y, data=df, kind=kind)\n",
    "    plt.show()\n",
    "\n",
    "def plot_pair(columns):\n",
    "    for col in columns:\n",
    "        if col not in df.columns:\n",
    "            print(f\"Column '{col}' not found in the DataFrame.\")\n",
    "            return\n",
    "    \n",
    "    sns.pairplot(df[list(columns)])\n",
    "    plt.show()\n",
    "\n",
    "def plot_rug(column):\n",
    "    plt.figure(figsize=(10, 6))\n",
    "    sns.rugplot(df[column])\n",
    "    plt.title(f'Rug Plot of {column}')\n",
    "    plt.show()\n",
    "\n",
    "print(\"Distribution Plots\")\n",
    "interact(plot_dist, column=df.select_dtypes(include=['int64', 'float64']).columns);\n",
    "\n",
    "print(\"Joint Plots\")\n",
    "interact(plot_joint, x=df.select_dtypes(include=['int64', 'float64']).columns, y=df.select_dtypes(include=['int64', 'float64']).columns, kind=['scatter', 'hex']);\n",
    "\n",
    "print(\"Pair Plots\")\n",
    "interact(plot_pair, columns=widgets.SelectMultiple(options=df.select_dtypes(include=['int64', 'float64']).columns, value=['views', 'likes']));\n",
    "\n",
    "print(\"Rug Plots\")\n",
    "interact(plot_rug, column=df.select_dtypes(include=['int64', 'float64']).columns);\n"
   ]
  },
  {
   "cell_type": "code",
   "execution_count": null,
   "metadata": {},
   "outputs": [],
   "source": [
    "def plot_bar(y):\n",
    "    plt.figure(figsize=(10, 6))\n",
    "    sns.barplot(x='Genre', y=y, data=df)\n",
    "    plt.title(f'Bar Plot of Genre vs {y}')\n",
    "    plt.show()\n",
    "\n",
    "def plot_count(column):\n",
    "    plt.figure(figsize=(10, 6))\n",
    "    sns.countplot(x=column, data=df)\n",
    "    plt.title(f'Count Plot of {column}')\n",
    "    plt.show()\n",
    "\n",
    "def plot_box(y):\n",
    "    plt.figure(figsize=(10, 6))\n",
    "    sns.boxplot(x='Genre', y=y, data=df)\n",
    "    plt.title(f'Box Plot of Genre vs {y}')\n",
    "    plt.show()\n",
    "\n",
    "def plot_violin(y):\n",
    "    plt.figure(figsize=(10, 6))\n",
    "    sns.violinplot(x='Genre', y=y, data=df)\n",
    "    plt.title(f'Violin Plot of Genre vs {y}')\n",
    "    plt.show()\n",
    "\n",
    "print(\"Bar Plots\")\n",
    "interact(plot_bar, y=df.select_dtypes(include=['int64', 'float64']).columns);\n",
    "\n",
    "print(\"Count Plots\")\n",
    "interact(plot_count, column=(df.select_dtypes(include=['object', 'category']).columns)[-1]);\n",
    "\n",
    "print(\"Box Plots\")\n",
    "interact(plot_box, y=df.select_dtypes(include=['int64']).columns);\n",
    "\n",
    "print(\"Violin Plots\")\n",
    "interact(plot_violin, y=df.select_dtypes(include=['int64', 'float64']).columns);\n"
   ]
  },
  {
   "cell_type": "code",
   "execution_count": null,
   "metadata": {},
   "outputs": [],
   "source": [
    "def plot_strip(y):\n",
    "    plt.figure(figsize=(10, 6))\n",
    "    sns.stripplot(x='Genre', y=y, data=df)\n",
    "    plt.title(f'Strip Plot of Genre vs {y}')\n",
    "    plt.show()\n",
    "\n",
    "\n",
    "\n",
    "print(\"Strip Plots\")\n",
    "interact(plot_strip, y=df.select_dtypes(include=['int64', 'float64']).columns);"
   ]
  },
  {
   "cell_type": "code",
   "execution_count": null,
   "metadata": {},
   "outputs": [],
   "source": [
    "def plot_facetgrid(y):\n",
    "    g = sns.FacetGrid(df, col='Genre', col_wrap=4)\n",
    "    g.map(plt.hist, y)\n",
    "    plt.show()\n",
    "\n",
    "print(\"Facet Grid\")\n",
    "interact(plot_facetgrid, y=df.select_dtypes(include=['int64', 'float64']).columns);"
   ]
  },
  {
   "cell_type": "code",
   "execution_count": null,
   "metadata": {},
   "outputs": [],
   "source": [
    "def plot_reg(x, y):\n",
    "    plt.figure(figsize=(10, 6))\n",
    "    sns.regplot(x=x, y=y, data=df)\n",
    "    plt.title(f'Regression Plot of {x} vs {y}')\n",
    "    plt.show()\n",
    "    \n",
    "print(\"Regression Plot\")\n",
    "interact(plot_reg, x=df.select_dtypes(include=['int64', 'float64']).columns, y=df.select_dtypes(include=['int64', 'float64']).columns);\n"
   ]
  }
 ],
 "metadata": {
  "kernelspec": {
   "display_name": "Python 3",
   "language": "python",
   "name": "python3"
  },
  "language_info": {
   "codemirror_mode": {
    "name": "ipython",
    "version": 3
   },
   "file_extension": ".py",
   "mimetype": "text/x-python",
   "name": "python",
   "nbconvert_exporter": "python",
   "pygments_lexer": "ipython3",
   "version": "3.11.7"
  }
 },
 "nbformat": 4,
 "nbformat_minor": 2
}
