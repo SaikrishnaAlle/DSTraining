{
 "cells": [
  {
   "cell_type": "markdown",
   "metadata": {},
   "source": [
    "<p align=\"center\"><span style=\"font-family:Comic Sans MS; color:red; font-size: 24px;\">Control Flow Statements in Python</span></p>"
   ]
  },
  {
   "cell_type": "markdown",
   "metadata": {},
   "source": [
    "<span style=\"font-family:Comic Sans MS; color:red\">1.What is a control flow statement in Python?</span>"
   ]
  },
  {
   "cell_type": "markdown",
   "metadata": {},
   "source": [
    "<span style=\"font-family:Comic Sans MS; color:white; font-size: 12px;\">\n",
    "Control flow statements in Python determine the order in which code is executed. The main types include:\n",
    "\n",
    "1. Conditional Statements: if, elif, else.<br>\n",
    "2. Looping Statements: for, while.<br>\n",
    "3. Control Flow Modification Statements: break, continue, pass.\n",
    "</span>\n"
   ]
  },
  {
   "cell_type": "markdown",
   "metadata": {},
   "source": [
    "<span style=\"font-family:Comic Sans MS; color:red\">2. Explain the if statement with an example.</span>"
   ]
  },
  {
   "cell_type": "code",
   "execution_count": 1,
   "metadata": {},
   "outputs": [
    {
     "name": "stdout",
     "output_type": "stream",
     "text": [
      "x is greater than 5\n"
     ]
    }
   ],
   "source": [
    "#The `if` statement in Python checks a condition and executes a block of code if the condition is true. Here's an example:\n",
    "\n",
    "x = 10\n",
    "if x > 5:\n",
    "    print(\"x is greater than 5\")"
   ]
  },
  {
   "cell_type": "markdown",
   "metadata": {},
   "source": [
    "\n",
    "<span style=\"font-family:Comic Sans MS; color:red\">3. What is the difference between if and elif statements?</span>"
   ]
  },
  {
   "cell_type": "code",
   "execution_count": 2,
   "metadata": {},
   "outputs": [
    {
     "name": "stdout",
     "output_type": "stream",
     "text": [
      "x is greater than 5\n"
     ]
    }
   ],
   "source": [
    "#The `if` statement is used to execute a block of code if a condition is true. The `elif` (else if) statement is used to check additional conditions after the initial `if` statement. If the condition for `if` is not true, then `elif` condition is checked. Here's an example:\n",
    "\n",
    "x = 10\n",
    "if x > 5:\n",
    "    print(\"x is greater than 5\")\n",
    "elif x == 5:\n",
    "    print(\"x is equal to 5\")\n"
   ]
  },
  {
   "cell_type": "markdown",
   "metadata": {},
   "source": [
    "<span style=\"font-family:Comic Sans MS; color:red\">4. How does the else statement work in Python?</span>\n"
   ]
  },
  {
   "cell_type": "code",
   "execution_count": 3,
   "metadata": {},
   "outputs": [
    {
     "name": "stdout",
     "output_type": "stream",
     "text": [
      "x is less than or equal to 5\n"
     ]
    }
   ],
   "source": [
    "#The `else` statement is used in conjunction with an `if` statement to execute a block of code when the `if` condition is false. Here's an example:\n",
    "\n",
    "x = 3\n",
    "if x > 5:\n",
    "    print(\"x is greater than 5\")\n",
    "else:\n",
    "    print(\"x is less than or equal to 5\")\n"
   ]
  },
  {
   "cell_type": "markdown",
   "metadata": {},
   "source": [
    "<span style=\"font-family:Comic Sans MS; color:red\">5. Write a Python program to check if a number is positive, negative, or zero using if-elif-else statements.</span>"
   ]
  },
  {
   "cell_type": "code",
   "execution_count": 4,
   "metadata": {},
   "outputs": [
    {
     "name": "stdout",
     "output_type": "stream",
     "text": [
      "25 is Positive Integer.\n"
     ]
    }
   ],
   "source": [
    "Number = int(input(\"Enter a value for Number: \"))\n",
    "def check_sign(N):\n",
    "    if N > 0:\n",
    "        print(f\"{N} is Positive Integer.\")\n",
    "    elif N < 0:\n",
    "        print(f\"{N} is Negative Integer.\")\n",
    "    else:\n",
    "        print(f\"{N} is Zero.\")\n",
    "\n",
    "check_sign(Number)\n"
   ]
  },
  {
   "cell_type": "markdown",
   "metadata": {},
   "source": [
    "\n",
    "<span style=\"font-family:Comic Sans MS; color:red\">6. Explain the use of nested if statements with an example.</span>"
   ]
  },
  {
   "cell_type": "code",
   "execution_count": 5,
   "metadata": {},
   "outputs": [
    {
     "name": "stdout",
     "output_type": "stream",
     "text": [
      "x is greater than 5\n",
      "y is greater than 3\n"
     ]
    }
   ],
   "source": [
    "#Nested `if` statements in Python are `if` statements inside another `if` statement. They are used to handle more complex decision-making scenarios. Here's an example:\n",
    "\n",
    "x = 10\n",
    "y = 5\n",
    "if x > 5:\n",
    "    print(\"x is greater than 5\")\n",
    "    if y > 3:\n",
    "        print(\"y is greater than 3\")\n",
    "    else:\n",
    "        print(\"y is not greater than 3\")\n",
    "else:\n",
    "    print(\"x is not greater than 5\")\n"
   ]
  },
  {
   "cell_type": "markdown",
   "metadata": {},
   "source": [
    "\n",
    "<span style=\"font-family:Comic Sans MS; color:red\">7. What are the logical operators used in control flow statements? Give examples.</span>\n"
   ]
  },
  {
   "cell_type": "code",
   "execution_count": 6,
   "metadata": {},
   "outputs": [
    {
     "name": "stdout",
     "output_type": "stream",
     "text": [
      "x is between 5 and 15\n",
      "x is less than 5 or greater than 10\n",
      "x is not Equal to 10\n"
     ]
    }
   ],
   "source": [
    "#Logical operators in Python (`and`, `or`, `not`) are used to combine conditional statements. Here are examples:\n",
    "\n",
    "#1. `and` operator:\n",
    "x = 11\n",
    "if x > 5 and x < 15:\n",
    "    print(\"x is between 5 and 15\")\n",
    "\n",
    "#2. `or` operator:\n",
    "if x < 5 or x > 10:\n",
    "    print(\"x is less than 5 or greater than 10\")\n",
    "\n",
    "#3 'not' operator:\n",
    "if x != 10:\n",
    "    print(\"x is not Equal to 10\")"
   ]
  },
  {
   "cell_type": "markdown",
   "metadata": {},
   "source": [
    "<span style=\"font-family:Comic Sans MS; color:red\">8. Write a Python program to find the largest of three numbers using if-elif-else statements.</span>"
   ]
  },
  {
   "cell_type": "code",
   "execution_count": 7,
   "metadata": {},
   "outputs": [
    {
     "name": "stdout",
     "output_type": "stream",
     "text": [
      "y is Holding Largest Value: 62\n",
      "Largest value is: 62\n"
     ]
    }
   ],
   "source": [
    "x, y, z = int(input(\"Provide a value for x: \")), int(input(\"Provide a value for y: \")), int(input(\"Provide a value for z: \"))\n",
    "\n",
    "if x >= y and x >= z:\n",
    "        print(f\"x is Holding Largest Value: {x}\")\n",
    "elif y >= x and y >= z:\n",
    "        print(f\"y is Holding Largest Value: {y}\")\n",
    "else:\n",
    "    print(f\"z is Holding Largest Value: {z}\")\n",
    "\n",
    "print(f\"Largest value is: {max(x,y,z)}\")"
   ]
  },
  {
   "cell_type": "markdown",
   "metadata": {},
   "source": [
    "<span style=\"font-family:Comic Sans MS; color:red\">9. How can you use the pass statement in an if statement? Provide an example.</span>"
   ]
  },
  {
   "cell_type": "code",
   "execution_count": 8,
   "metadata": {},
   "outputs": [],
   "source": [
    "#The `pass` statement in Python is used as a placeholder where a statement is syntactically required but you have no code to execute. Here's how you can #use it in an `if` statement:\n",
    "\n",
    "x = 10\n",
    "if x > 5:\n",
    "    pass  # no action is taken if x > 5\n",
    "else:\n",
    "    print(\"x is not greater than 5\")"
   ]
  },
  {
   "cell_type": "markdown",
   "metadata": {},
   "source": [
    "<span style=\"font-family:Comic Sans MS; color:red\">10. Describe how the ternary operator can be used for conditional assignments.</span>"
   ]
  },
  {
   "cell_type": "code",
   "execution_count": 9,
   "metadata": {},
   "outputs": [
    {
     "name": "stdout",
     "output_type": "stream",
     "text": [
      "greater than 5\n"
     ]
    }
   ],
   "source": [
    "#The ternary operator in Python (`condition ? value_if_true : value_if_false`) allows for concise conditional assignment of values based on a condition. Here's an example:\n",
    "\n",
    "x = 10\n",
    "y = \"greater than 5\" if x > 5 else \"not greater than 5\"\n",
    "print(y)\n"
   ]
  },
  {
   "cell_type": "markdown",
   "metadata": {},
   "source": [
    "<span style=\"font-family:Comic Sans MS; color:red\">11. Write a Python program to check if a given year is a leap year using if-else statements.</span>"
   ]
  },
  {
   "cell_type": "code",
   "execution_count": 10,
   "metadata": {},
   "outputs": [
    {
     "name": "stdout",
     "output_type": "stream",
     "text": [
      "Given 1996 is a Leap Year.\n",
      "Given 10 is not a Leap Year.\n"
     ]
    },
    {
     "ename": "TypeError",
     "evalue": "not all arguments converted during string formatting",
     "output_type": "error",
     "traceback": [
      "\u001b[1;31m---------------------------------------------------------------------------\u001b[0m",
      "\u001b[1;31mTypeError\u001b[0m                                 Traceback (most recent call last)",
      "Cell \u001b[1;32mIn[10], line 12\u001b[0m\n\u001b[0;32m      9\u001b[0m check_leap(year)\n\u001b[0;32m     11\u001b[0m \u001b[38;5;28;01mfor\u001b[39;00m i \u001b[38;5;129;01min\u001b[39;00m x,y,z:\n\u001b[1;32m---> 12\u001b[0m     \u001b[43mcheck_leap\u001b[49m\u001b[43m(\u001b[49m\u001b[43mi\u001b[49m\u001b[43m)\u001b[49m\n",
      "Cell \u001b[1;32mIn[10], line 4\u001b[0m, in \u001b[0;36mcheck_leap\u001b[1;34m(year)\u001b[0m\n\u001b[0;32m      3\u001b[0m \u001b[38;5;28;01mdef\u001b[39;00m \u001b[38;5;21mcheck_leap\u001b[39m(year):\n\u001b[1;32m----> 4\u001b[0m     \u001b[38;5;28;01mif\u001b[39;00m (\u001b[43myear\u001b[49m\u001b[43m \u001b[49m\u001b[38;5;241;43m%\u001b[39;49m\u001b[43m \u001b[49m\u001b[38;5;241;43m4\u001b[39;49m \u001b[38;5;241m==\u001b[39m \u001b[38;5;241m0\u001b[39m \u001b[38;5;129;01mand\u001b[39;00m year \u001b[38;5;241m%\u001b[39m \u001b[38;5;241m100\u001b[39m \u001b[38;5;241m!=\u001b[39m \u001b[38;5;241m0\u001b[39m) \u001b[38;5;129;01mor\u001b[39;00m year \u001b[38;5;241m%\u001b[39m \u001b[38;5;241m400\u001b[39m \u001b[38;5;241m==\u001b[39m \u001b[38;5;241m0\u001b[39m:\n\u001b[0;32m      5\u001b[0m         \u001b[38;5;28mprint\u001b[39m(\u001b[38;5;124mf\u001b[39m\u001b[38;5;124m\"\u001b[39m\u001b[38;5;124mGiven \u001b[39m\u001b[38;5;132;01m{\u001b[39;00myear\u001b[38;5;132;01m}\u001b[39;00m\u001b[38;5;124m is a Leap Year.\u001b[39m\u001b[38;5;124m\"\u001b[39m)\n\u001b[0;32m      6\u001b[0m     \u001b[38;5;28;01melse\u001b[39;00m:\n",
      "\u001b[1;31mTypeError\u001b[0m: not all arguments converted during string formatting"
     ]
    }
   ],
   "source": [
    "year = int(input(\"Provide Year to check whether it's a Leap year or not: \"))\n",
    "\n",
    "def check_leap(year):\n",
    "    if (year % 4 == 0 and year % 100 != 0) or year % 400 == 0:\n",
    "        print(f\"Given {year} is a Leap Year.\")\n",
    "    else:\n",
    "        print(f\"Given {year} is not a Leap Year.\")\n",
    "\n",
    "check_leap(year)\n",
    "\n",
    "for i in x,y,z:\n",
    "    check_leap(i)"
   ]
  },
  {
   "cell_type": "markdown",
   "metadata": {},
   "source": [
    "\n",
    "<span style=\"font-family:Comic Sans MS; color:red\">12. How does the while loop work in Python? Provide an example.</span>\n"
   ]
  },
  {
   "cell_type": "code",
   "execution_count": null,
   "metadata": {},
   "outputs": [],
   "source": [
    "#The `while` loop in Python repeatedly executes a block of code as long as a specified condition is true. Here's an example:\n",
    "\n",
    "count = 0\n",
    "while count < 5:\n",
    "    print(count)\n",
    "    count += 1\n"
   ]
  },
  {
   "cell_type": "markdown",
   "metadata": {},
   "source": [
    "\n",
    "<span style=\"font-family:Comic Sans MS; color:red\">13. Explain the use of the break statement in loops with an example.</span>"
   ]
  },
  {
   "cell_type": "code",
   "execution_count": null,
   "metadata": {},
   "outputs": [],
   "source": [
    "#The `break` statement in Python is used to exit a loop prematurely based on a certain condition. Here's an example:\n",
    "\n",
    "for i in range(10):\n",
    "    if i == 5:\n",
    "        break  # exit the loop when i is 5\n",
    "    print(i)\n"
   ]
  },
  {
   "cell_type": "markdown",
   "metadata": {},
   "source": [
    "<span style=\"font-family:Comic Sans MS; color:red\">14. Write a Python program to print the first 10 natural numbers using a while loop.</span>"
   ]
  },
  {
   "cell_type": "code",
   "execution_count": null,
   "metadata": {},
   "outputs": [],
   "source": [
    "i = 1\n",
    "while i <= 10:\n",
    "    print(i)\n",
    "    i += 1 "
   ]
  },
  {
   "cell_type": "markdown",
   "metadata": {},
   "source": [
    "<span style=\"font-family:Comic Sans MS; color:red\">15. Describe the difference between break and continue statements with examples.</span>"
   ]
  },
  {
   "cell_type": "code",
   "execution_count": null,
   "metadata": {},
   "outputs": [],
   "source": [
    "\"\"\"The `break` and `continue` statements in Python are used to alter the flow of loops (`for` or `while`).\n",
    "\n",
    "1. **break statement**:\n",
    "   - Used to terminate the loop prematurely based on a condition.\n",
    "   - Example:\"\"\"\n",
    "\n",
    "print(\"break statement\")\n",
    "for i in range(10):\n",
    "    if i == 5:\n",
    "        break  # exit the loop when i is 5\n",
    "    print(i)\n",
    "\n",
    "\"\"\"2.continue statement:\n",
    "Skips the rest of the current iteration and continues to the next iteration of the loop.\n",
    "Example:\"\"\"\n",
    "\n",
    "print(\"continue statement\")\n",
    "for i in range(6):\n",
    "    if i == 3:\n",
    "        continue  # skip printing 3\n",
    "    print(i)\n"
   ]
  },
  {
   "cell_type": "code",
   "execution_count": null,
   "metadata": {},
   "outputs": [
    {
     "name": "stdout",
     "output_type": "stream",
     "text": [
      "No.\n"
     ]
    }
   ],
   "source": [
    "def check_power(N, M, i):\n",
    "    i = i + 1\n",
    "    X, Y = N // M, N % M\n",
    "    return check(X,Y,i)\n",
    "\n",
    "def check(X,Y,i):\n",
    "    if Y != 0:\n",
    "        print(\"No.\")\n",
    "    elif Y == 0 and X <= M:\n",
    "        print(f\"Yes with {M} Power {i}.\")\n",
    "    else:\n",
    "        check_power(X, M, i)\n",
    "N = int(input(\"Provide a value for N: \"))\n",
    "M = int(input(\"Provide Power value for M: \"))\n",
    "\n",
    "check_power(N, M, 1)"
   ]
  },
  {
   "cell_type": "code",
   "execution_count": null,
   "metadata": {},
   "outputs": [],
   "source": [
    "def table(N):\n",
    "    i = 1\n",
    "    while i < 11:\n",
    "        print(f\"{N} X {i} = {N*i}\")\n",
    "        i += 1\n",
    "\n",
    "N = int(input(\"Provide a value for N: \"))\n",
    "table(N)\n",
    "\n",
    "for i in range(5,21,5):\n",
    "    table(i)"
   ]
  },
  {
   "cell_type": "code",
   "execution_count": null,
   "metadata": {},
   "outputs": [],
   "source": [
    "I, X, Z = 0, int(input(\"Provide a value for x: \")), 1\n",
    "K = []\n",
    "while Z < X + 1:\n",
    "    if X % Z == 0:\n",
    "        K.append(Z)\n",
    "        I += 1\n",
    "    Z += 1\n",
    "\n",
    "if I == 2:\n",
    "    print(f'{X} is a Prime Number.')\n",
    "else:\n",
    "    print(f'{X} is not a Prime Number.')\n",
    "print(I)\n",
    "print(K)"
   ]
  },
  {
   "cell_type": "code",
   "execution_count": null,
   "metadata": {},
   "outputs": [],
   "source": [
    "i = 1\n",
    "while i <= 5:\n",
    "    print('*'*i)\n",
    "    i += 1"
   ]
  },
  {
   "cell_type": "code",
   "execution_count": null,
   "metadata": {},
   "outputs": [],
   "source": [
    "i = 1\n",
    "N = 55\n",
    "while i <= N:\n",
    "    K = N - i\n",
    "    A = (' ' * int(int(K)/2)) + ('*'*i) + (' ' * int(int(K)/2))\n",
    "    print(A)\n",
    "    i += 2"
   ]
  },
  {
   "cell_type": "code",
   "execution_count": null,
   "metadata": {},
   "outputs": [],
   "source": [
    "i = 1\n",
    "N = 7\n",
    "S = []\n",
    "while i <= N:\n",
    "    K = N - i\n",
    "    A = (' ' * int(int(K)/2)) + ('*'*i)\n",
    "    print(A)\n",
    "    S.append(A)\n",
    "    i += 2\n",
    "S.pop()\n",
    "for i in S[::-1]:\n",
    "    print(i)"
   ]
  },
  {
   "cell_type": "code",
   "execution_count": null,
   "metadata": {},
   "outputs": [
    {
     "name": "stdout",
     "output_type": "stream",
     "text": [
      "18.666666666666668\n",
      "-56\n",
      "220.0\n",
      "-660\n",
      "2659.6666666666665\n",
      "-7979\n",
      "24964.0\n",
      "-74892\n"
     ]
    }
   ],
   "source": [
    "y = 1\n",
    "x = 0\n",
    "for i in range(7,14,2):\n",
    "    x = (x*3) - i\n",
    "    y = x - y\n",
    "    print((x*y)/3)\n",
    "    z = 0\n",
    "    print(z - (x * y))"
   ]
  },
  {
   "cell_type": "code",
   "execution_count": null,
   "metadata": {},
   "outputs": [],
   "source": [
    "x = 2\n",
    "z = 10\n",
    "if z % x == 0:\n",
    "    while z > 0:\n",
    "        z = z-2\n",
    "        for i in range(1,(z//2),2):\n",
    "            print(i)\n",
    "    if z > 7:\n",
    "        print(\"Execute Result in Copy Only\")\n",
    "    else:\n",
    "        print(\"Now You Can Execute in Laptop\")\n",
    "else:\n",
    "    print(\"am i going to Execute ?\")"
   ]
  },
  {
   "cell_type": "code",
   "execution_count": null,
   "metadata": {},
   "outputs": [],
   "source": [
    "X = \"Hello Coder from Awesome Coding.\"\n",
    "i = 0\n",
    "j = 0\n",
    "k = 0\n",
    "for x in X:\n",
    "    i += 1\n",
    "    print(x)\n",
    "    if x == ' ':\n",
    "        j += 1\n",
    "    if x != ' ':\n",
    "        k += 1\n",
    "print(f\" Count of X: {i} \\n Count of spaces: {j} \\n Count of X exclude spaces: {k} \\n\")"
   ]
  },
  {
   "cell_type": "code",
   "execution_count": null,
   "metadata": {},
   "outputs": [],
   "source": [
    "X = \"              Hello          Coder            from                            Awesome                                      Coding.\"\n",
    "\" \".join(X.split())"
   ]
  },
  {
   "cell_type": "code",
   "execution_count": null,
   "metadata": {},
   "outputs": [
    {
     "name": "stdout",
     "output_type": "stream",
     "text": [
      "it's Not a prime number\n"
     ]
    }
   ],
   "source": [
    "i = 10\n",
    "c = 0\n",
    "for A in range(1,i+1):\n",
    "    if i % A == 0:\n",
    "        c += 1\n",
    "if c == 2:\n",
    "    print(\"it's a prime number\")\n",
    "else:\n",
    "    print(\"it's Not a prime number\")"
   ]
  },
  {
   "cell_type": "code",
   "execution_count": null,
   "metadata": {},
   "outputs": [],
   "source": []
  }
 ],
 "metadata": {
  "kernelspec": {
   "display_name": "Python 3",
   "language": "python",
   "name": "python3"
  },
  "language_info": {
   "codemirror_mode": {
    "name": "ipython",
    "version": 3
   },
   "file_extension": ".py",
   "mimetype": "text/x-python",
   "name": "python",
   "nbconvert_exporter": "python",
   "pygments_lexer": "ipython3",
   "version": "3.11.7"
  }
 },
 "nbformat": 4,
 "nbformat_minor": 2
}
