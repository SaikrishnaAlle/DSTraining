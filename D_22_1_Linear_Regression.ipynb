{
 "cells": [
  {
   "cell_type": "code",
   "execution_count": null,
   "metadata": {},
   "outputs": [],
   "source": [
    "x1=[23,1,2,3,4,5,6,2,3,4,53,22,1,22,9,8,73,8,0,34,45]\n",
    "x2=[2,12,22,3,4,52,2,3,2,34,52,22,12,22,9,82,3,8,20,34,45]\n",
    "y=[3,1,2,33,44,5,36,12,32,34,13,12,13,2,94,5,23,83,23,44,44]\n"
   ]
  },
  {
   "cell_type": "code",
   "execution_count": null,
   "metadata": {},
   "outputs": [],
   "source": [
    "a = 0.0000000001\n",
    "o1 = 0\n",
    "o0 = 0\n",
    "o2=0\n",
    "for k in range(100):\n",
    "    sum1 = 0\n",
    "    sum2 = 0\n",
    "    sum3=0\n",
    "    for i,j,l in zip(x1,x2,y):\n",
    "        ho1 = sum1+((o0+o2*j+(o1*1))-l)*i\n",
    "        ho2=sum2+((o0+o2*j+o1*i)-l)*j\n",
    "        ho0 = sum3+((o0+o2*j+(o1*1))-l)\n",
    "    do1 = ho1/len(x)\n",
    "    do2=ho2/len(x)\n",
    "    do0 = ho0/len(x)\n",
    "    o1 = o1-(a*do1)\n",
    "    o2 = o2-(a*do2)\n",
    "    o0 = o0 - (a*do0)\n",
    "    print(o1,o2,o0)"
   ]
  },
  {
   "cell_type": "code",
   "execution_count": null,
   "metadata": {},
   "outputs": [],
   "source": [
    "import numpy as np\n",
    "# Initialize variables\n",
    "a = 0.0000000001  # learning rate\n",
    "n_samples, n_features = x.shape\n",
    "theta = np.zeros(n_features + 1)  # including the bias term\n",
    "\n",
    "# Add bias term to feature matrix\n",
    "x = np.c_[np.ones(n_samples), x]\n",
    "\n",
    "# Gradient Descent\n",
    "for k in range(100):\n",
    "    # Initialize the sums to zero\n",
    "    gradients = np.zeros(n_features + 1)\n",
    "    \n",
    "    # Calculate gradients manually for each feature\n",
    "    for i in range(n_samples):\n",
    "        prediction = np.dot(x[i], theta)\n",
    "        error = prediction - y[i]\n",
    "        for j in range(n_features + 1):\n",
    "            gradients[j] += error * x[i, j]\n",
    "    \n",
    "    # Average gradients\n",
    "    gradients /= n_samples\n",
    "    \n",
    "    # Update parameters\n",
    "    theta -= a * gradients\n",
    "    \n",
    "    # Print the updated parameters\n",
    "    print(theta)\n"
   ]
  },
  {
   "cell_type": "code",
   "execution_count": null,
   "metadata": {},
   "outputs": [],
   "source": [
    "import pandas as pd\n",
    "import numpy as numpy"
   ]
  },
  {
   "cell_type": "code",
   "execution_count": null,
   "metadata": {},
   "outputs": [],
   "source": [
    "df=pd.read_csv(\"https://raw.githubusercontent.com/singhrau0/Big-Data-Preprocessing/main/Movie_Data.csv\")"
   ]
  },
  {
   "cell_type": "code",
   "execution_count": null,
   "metadata": {},
   "outputs": [],
   "source": [
    "df.head()"
   ]
  },
  {
   "cell_type": "code",
   "execution_count": null,
   "metadata": {},
   "outputs": [],
   "source": [
    "y=df[\"Collection\"]\n",
    "x=df[[\"Marketin_expense\",\"Trailer_views\"]]"
   ]
  },
  {
   "cell_type": "code",
   "execution_count": null,
   "metadata": {},
   "outputs": [],
   "source": [
    "from sklearn.model_selection import train_test_split"
   ]
  },
  {
   "cell_type": "code",
   "execution_count": null,
   "metadata": {},
   "outputs": [],
   "source": [
    "x_train,x_test,y_train,y_test=train_test_split(x,y,test_size=0.2,random_state=333)"
   ]
  },
  {
   "cell_type": "code",
   "execution_count": null,
   "metadata": {},
   "outputs": [],
   "source": [
    "from sklearn.linear_model import LinearRegression\n",
    "lr=LinearRegression()"
   ]
  },
  {
   "cell_type": "code",
   "execution_count": null,
   "metadata": {},
   "outputs": [],
   "source": [
    "lr.fit(x_train,y_train)"
   ]
  },
  {
   "cell_type": "code",
   "execution_count": null,
   "metadata": {},
   "outputs": [],
   "source": [
    "y_test=np.array(y_test)\n",
    "y_test"
   ]
  },
  {
   "cell_type": "code",
   "execution_count": null,
   "metadata": {},
   "outputs": [],
   "source": [
    "y_prd=lr.predict(x_test)\n",
    "y_prd"
   ]
  },
  {
   "cell_type": "code",
   "execution_count": null,
   "metadata": {},
   "outputs": [],
   "source": [
    "lr.score(x_train,y_train)\n"
   ]
  },
  {
   "cell_type": "code",
   "execution_count": null,
   "metadata": {},
   "outputs": [],
   "source": [
    "lr.score(x_test,y_test)"
   ]
  },
  {
   "cell_type": "markdown",
   "metadata": {},
   "source": [
    "Logistic Regression"
   ]
  },
  {
   "cell_type": "code",
   "execution_count": null,
   "metadata": {},
   "outputs": [],
   "source": [
    "x1=[23,1,2,3,4,5,6,2,3,4,53,22,1,22,9,8,73,8,0,34,45]\n",
    "x2=[2,12,22,3,4,52,2,3,2,34,52,22,12,22,9,82,3,8,20,34,45]\n",
    "y=[0,1,0,0,1,0,1,1,1,1,0,0,0,0,1,0,1,1,0,1,1]"
   ]
  },
  {
   "cell_type": "code",
   "execution_count": null,
   "metadata": {},
   "outputs": [],
   "source": [
    "a = 0.0000000001\n",
    "o1 = 0\n",
    "o0 = 0\n",
    "for k in range(100):\n",
    "    sum1 = 0\n",
    "    sum2 = 0\n",
    "    for i,j in zip(x1,y):\n",
    "        ho1 = sum1+((1/1+(2.718**(o1*i+o0)))-j)*i\n",
    "        ho0 = sum2+((1/1+(2.718**(o1*i+o0)))-j)\n",
    "    do1 = ho1/len(x1)\n",
    "    do0 = ho0/len(x1)\n",
    "    o1 = o1-(a*do1)\n",
    "    o0 = o0 - (a*do0)\n",
    "    print(o1,o0)"
   ]
  },
  {
   "cell_type": "code",
   "execution_count": null,
   "metadata": {},
   "outputs": [],
   "source": [
    "#Testing\n",
    "1/1+2.718**-(2.1428561196271624e-08*2+-4.76190248806036e-10)"
   ]
  },
  {
   "cell_type": "code",
   "execution_count": null,
   "metadata": {},
   "outputs": [],
   "source": []
  }
 ],
 "metadata": {
  "kernelspec": {
   "display_name": "Python 3",
   "language": "python",
   "name": "python3"
  },
  "language_info": {
   "codemirror_mode": {
    "name": "ipython",
    "version": 3
   },
   "file_extension": ".py",
   "mimetype": "text/x-python",
   "name": "python",
   "nbconvert_exporter": "python",
   "pygments_lexer": "ipython3",
   "version": "3.11.9"
  }
 },
 "nbformat": 4,
 "nbformat_minor": 2
}
