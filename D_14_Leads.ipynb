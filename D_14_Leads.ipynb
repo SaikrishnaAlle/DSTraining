{
 "cells": [
  {
   "cell_type": "code",
   "execution_count": null,
   "metadata": {},
   "outputs": [],
   "source": [
    "import pandas as pd\n",
    "import matplotlib.pyplot as plt\n",
    "import seaborn as sns\n",
    "from sklearn.preprocessing import StandardScaler\n",
    "from sklearn.feature_selection import SelectKBest, chi2\n",
    "from sklearn.model_selection import train_test_split\n",
    "from sklearn.ensemble import RandomForestClassifier\n",
    "from sklearn.metrics import classification_report, roc_curve, auc\n",
    "\n",
    "\n",
    "pd.set_option('display.max_rows', 100)\n",
    "pd.set_option('display.max_columns', 100)"
   ]
  },
  {
   "cell_type": "code",
   "execution_count": null,
   "metadata": {},
   "outputs": [],
   "source": [
    "df = pd.read_csv('files/Leads.csv')\n",
    "df.head()"
   ]
  },
  {
   "cell_type": "code",
   "execution_count": null,
   "metadata": {},
   "outputs": [],
   "source": [
    "print(df.head())\n",
    "print(df.info())\n",
    "print(df.describe(include='all'))"
   ]
  },
  {
   "cell_type": "code",
   "execution_count": null,
   "metadata": {},
   "outputs": [],
   "source": [
    "df['Asymmetrique Activity Index'] = df['Asymmetrique Activity Index'].str.split(\".\").str[0]\n",
    "df['Asymmetrique Profile Index'] = df['Asymmetrique Profile Index'].str.split(\".\").str[0]\n",
    "\n",
    "numerical_columns_with_missing = [\n",
    "    'Asymmetrique Activity Index', 'Asymmetrique Profile Index',\n",
    "    'Asymmetrique Activity Score', 'Asymmetrique Profile Score'\n",
    "]\n",
    "\n",
    "for column in numerical_columns_with_missing:\n",
    "    df[column] = pd.to_numeric(df[column], errors='coerce')\n",
    "\n",
    "for column in numerical_columns_with_missing:\n",
    "    df[column].fillna(df[column].mode(), inplace=True)\n",
    "\n",
    "df['Page Views Per Visit'].fillna(df['Page Views Per Visit'].mode(), inplace=True)\n",
    "df['TotalVisits'].fillna(df['TotalVisits'].mode(), inplace=True)\n",
    "\n",
    "categorical_columns_with_missing = [\n",
    "    'Last Activity', 'Country', 'Specialization', \"Lead Source\",\n",
    "    'How did you hear about X Education', 'What is your current occupation',\n",
    "    'What matters most to you in choosing a course', 'Tags', 'Lead Quality', 'Lead Profile', 'City'\n",
    "]\n",
    "\n",
    "for column in categorical_columns_with_missing:\n",
    "    df[column].fillna('Unknown', inplace=True)"
   ]
  },
  {
   "cell_type": "code",
   "execution_count": null,
   "metadata": {},
   "outputs": [],
   "source": [
    "columns= df.columns.to_list()\n",
    "\n",
    "for x in columns:\n",
    "    print(f\"{x}: {df[x].isnull().sum()}\")"
   ]
  },
  {
   "cell_type": "code",
   "execution_count": null,
   "metadata": {},
   "outputs": [],
   "source": [
    "categorical_columns = [\n",
    "    'Lead Origin', 'Last Activity', 'Country', 'Specialization',\n",
    "    'How did you hear about X Education', 'What is your current occupation',\n",
    "    'What matters most to you in choosing a course', 'Tags', 'Lead Quality', 'Lead Profile', 'City'\n",
    "]\n",
    "\n",
    "df = pd.get_dummies(df, columns=categorical_columns, drop_first=True)\n",
    "\n",
    "binary_columns = ['Do Not Email', 'Do Not Call', 'Search', 'Magazine', 'Newspaper Article', 'X Education Forums', \n",
    "                  'Newspaper', 'Digital Advertisement', 'Through Recommendations', \n",
    "                  'Receive More Updates About Our Courses', 'I agree to pay the amount through cheque', \n",
    "                  'A free copy of Mastering The Interview']\n",
    "\n",
    "for column in binary_columns:\n",
    "    df[column] = df[column].apply(lambda x: 1 if x == 'Yes' else 0)\n"
   ]
  },
  {
   "cell_type": "code",
   "execution_count": null,
   "metadata": {},
   "outputs": [],
   "source": [
    "numerical_features = ['TotalVisits', 'Total Time Spent on Website', 'Page Views Per Visit', \n",
    "                      'Asymmetrique Activity Index', 'Asymmetrique Profile Index', \n",
    "                      'Asymmetrique Activity Score', 'Asymmetrique Profile Score']\n",
    "\n",
    "scaler = StandardScaler()\n",
    "df[numerical_features] = scaler.fit_transform(df[numerical_features])\n"
   ]
  },
  {
   "cell_type": "code",
   "execution_count": null,
   "metadata": {},
   "outputs": [],
   "source": [
    "df['TotalVisits'].hist(bins=50)\n",
    "plt.title('Distribution of Total Visits')\n",
    "plt.xlabel('TotalVisits')\n",
    "plt.ylabel('Frequency')\n",
    "plt.show()"
   ]
  },
  {
   "cell_type": "code",
   "execution_count": null,
   "metadata": {},
   "outputs": [],
   "source": [
    "columns= df.columns.to_list()\n",
    "\n",
    "for x in columns:\n",
    "    print(f\"{x}: {df[x].dtype}\")"
   ]
  },
  {
   "cell_type": "code",
   "execution_count": null,
   "metadata": {},
   "outputs": [],
   "source": [
    "numeric_columns = df.select_dtypes(include=['number']).columns\n",
    "df_numeric = df[numeric_columns]\n",
    "df_numeric.fillna(df_numeric.median(numeric_only=True), inplace=True)"
   ]
  },
  {
   "cell_type": "code",
   "execution_count": null,
   "metadata": {},
   "outputs": [],
   "source": [
    "correlation_matrix = df_numeric.corr()\n",
    "\n",
    "print(correlation_matrix['Converted'].sort_values(ascending=False))\n",
    "\n",
    "plt.figure(figsize=(12, 8))\n",
    "plt.title('Correlation Matrix')\n",
    "plt.imshow(correlation_matrix, cmap='coolwarm', interpolation='none')\n",
    "plt.colorbar()\n",
    "plt.show()"
   ]
  },
  {
   "cell_type": "code",
   "execution_count": null,
   "metadata": {},
   "outputs": [],
   "source": [
    "columns= df_numeric.columns.to_list()\n",
    "NegativeColumns= []\n",
    "for x in columns:\n",
    "    y= (df_numeric[x] > 0).count()\n",
    "    if y < 0:\n",
    "        NegativeColumns.append(x)\n",
    "NegativeColumns\n",
    "NegativeColumns.append('Lead Number')\n",
    "NegativeColumns.append('Converted')\n",
    "\n",
    "for x in NegativeColumns:\n",
    "    df_numeric.drop(x, axis=1, inplace=True)\n",
    "\n",
    "print(df_numeric.columns)\n",
    "print(NegativeColumns)"
   ]
  },
  {
   "cell_type": "code",
   "execution_count": null,
   "metadata": {},
   "outputs": [],
   "source": [
    "X = df_numeric\n",
    "y = df['Converted']\n",
    "\n",
    "selector = SelectKBest(score_func=chi2, k=10)\n",
    "selector.fit(abs(X), y)\n",
    "\n",
    "scores = pd.DataFrame(selector.scores_, columns=['Score'], index=X.columns)\n",
    "print(scores.sort_values(by='Score', ascending=False))\n"
   ]
  },
  {
   "cell_type": "code",
   "execution_count": null,
   "metadata": {},
   "outputs": [],
   "source": [
    "X_train, X_test, y_train, y_test = train_test_split(X, y, test_size=0.2, random_state=42)\n",
    "\n",
    "model = RandomForestClassifier()\n",
    "model.fit(X_train, y_train)\n",
    "\n",
    "y_pred = model.predict(X_test)\n",
    "print(classification_report(y_test, y_pred))"
   ]
  },
  {
   "cell_type": "code",
   "execution_count": null,
   "metadata": {},
   "outputs": [],
   "source": [
    "sns.pairplot(df[['TotalVisits', 'Total Time Spent on Website', 'Converted']])\n",
    "plt.show()"
   ]
  },
  {
   "cell_type": "code",
   "execution_count": null,
   "metadata": {},
   "outputs": [],
   "source": [
    "fpr, tpr, _ = roc_curve(y_test, model.predict_proba(X_test)[:, 1])\n",
    "roc_auc = auc(fpr, tpr)\n",
    "\n",
    "plt.figure()\n",
    "plt.plot(fpr, tpr, color='darkorange', lw=2, label='ROC curve (area = %0.2f)' % roc_auc)\n",
    "plt.plot([0, 1], [0, 1], color='navy', lw=2, linestyle='--')\n",
    "plt.xlim([0.0, 1.0])\n",
    "plt.ylim([0.0, 1.05])\n",
    "plt.xlabel('False Positive Rate')\n",
    "plt.ylabel('True Positive Rate')\n",
    "plt.title('Receiver Operating Characteristic')\n",
    "plt.legend(loc='lower right')\n",
    "plt.show()\n"
   ]
  },
  {
   "cell_type": "code",
   "execution_count": null,
   "metadata": {},
   "outputs": [],
   "source": []
  }
 ],
 "metadata": {
  "kernelspec": {
   "display_name": "Python 3",
   "language": "python",
   "name": "python3"
  },
  "language_info": {
   "codemirror_mode": {
    "name": "ipython",
    "version": 3
   },
   "file_extension": ".py",
   "mimetype": "text/x-python",
   "name": "python",
   "nbconvert_exporter": "python",
   "pygments_lexer": "ipython3",
   "version": "3.11.7"
  }
 },
 "nbformat": 4,
 "nbformat_minor": 2
}
