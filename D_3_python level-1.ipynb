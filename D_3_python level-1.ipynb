{
 "cells": [
  {
   "cell_type": "markdown",
   "metadata": {},
   "source": [
    "<span style=\"font-family:Comic Sans MS; color:red\">1. Write a Python program to check if a given number is even or odd.</span>"
   ]
  },
  {
   "cell_type": "code",
   "execution_count": null,
   "metadata": {},
   "outputs": [],
   "source": [
    "def check_even_odd(N):\n",
    "    if N % 2 == 0:\n",
    "        print(f\"{N} is an Even Number.\")\n",
    "    else:\n",
    "        print(f\"{N} is an Odd Number.\")\n",
    "\n",
    "check_even_odd(10)"
   ]
  },
  {
   "cell_type": "markdown",
   "metadata": {},
   "source": [
    "<span style=\"font-family:Comic Sans MS; color:red\">2. Write a Python program to find the largest among three given numbers.</span>"
   ]
  },
  {
   "cell_type": "code",
   "execution_count": null,
   "metadata": {},
   "outputs": [],
   "source": [
    "k = [1, 3, 9]\n",
    "def find_largest(l):\n",
    "    max = l[0]\n",
    "    for x in l:\n",
    "        if x > max:\n",
    "            max = x\n",
    "    return max\n",
    "max= find_largest(k)\n",
    "print(\"Largest Value:\", max)"
   ]
  },
  {
   "cell_type": "markdown",
   "metadata": {},
   "source": [
    "<span style=\"font-family:Comic Sans MS; color:red\">3. Write a Python program to calculate the sum of all the elements in a list.</span>"
   ]
  },
  {
   "cell_type": "code",
   "execution_count": null,
   "metadata": {},
   "outputs": [],
   "source": [
    "l = [1, 3, 9]\n",
    "def sum_of_list(k):\n",
    "    sum = 0\n",
    "    for x in k:\n",
    "        sum += x\n",
    "    return sum \n",
    "sum = sum_of_list(l)\n",
    "print(\"the sum of all the elements in a list:\", sum)"
   ]
  },
  {
   "cell_type": "markdown",
   "metadata": {},
   "source": [
    "<span style=\"font-family:Comic Sans MS; color:red\">4. Write a Python program to find the factorial of a given number.</span>"
   ]
  },
  {
   "cell_type": "code",
   "execution_count": null,
   "metadata": {},
   "outputs": [],
   "source": [
    "def fact(n):\n",
    "    if n in [0,1]:\n",
    "        return 1\n",
    "    else:\n",
    "        return n*fact(n-1)\n",
    "k = 7\n",
    "Factorial = fact(k)\n",
    "print(f\"Factorial of {k}: {Factorial}\")"
   ]
  },
  {
   "cell_type": "markdown",
   "metadata": {},
   "source": [
    "<span style=\"font-family:Comic Sans MS; color:red\">5. Write a Python program to check if a given string is a palindrome.</span>"
   ]
  },
  {
   "cell_type": "code",
   "execution_count": null,
   "metadata": {},
   "outputs": [],
   "source": [
    "def check_palindrome(k):\n",
    "    print(f\"{k} is a Palindrome.\") if k.lower() == k[::-1].lower() else print(f\"{k} is not a Palindrome.\")\n",
    "\n",
    "check_palindrome(\"Radar\")"
   ]
  },
  {
   "cell_type": "markdown",
   "metadata": {},
   "source": [
    "<span style=\"font-family:Comic Sans MS; color:red\">6. Write a Python program to find the prime numbers in a given range..</span>"
   ]
  },
  {
   "cell_type": "code",
   "execution_count": null,
   "metadata": {},
   "outputs": [],
   "source": [
    "def primeNumbersFromTo(M,N):\n",
    "    k = [1,2,3,5,7]\n",
    "\n",
    "    for i in range(11,N+1):\n",
    "        c = 0\n",
    "        if i % 2 == 0 or i % 3 == 0 or i % 5 == 0 or i % 7 == 0:\n",
    "            pass\n",
    "        else:\n",
    "            for j in k:\n",
    "                if i % j == 0 and c <= 1:\n",
    "                    c += 1\n",
    "            \n",
    "            if c == 1 and i >= M:\n",
    "                k.append(i)\n",
    "    \n",
    "    return M, N, k\n",
    "\n",
    "M, N, k = primeNumbersFromTo(1, 1000)\n",
    "print(f\"prime Numbers from {M} to {N}: {k[:]}\")"
   ]
  },
  {
   "cell_type": "markdown",
   "metadata": {},
   "source": [
    "<span style=\"font-family:Comic Sans MS; color:red\">7. Write a Python program to find the common elements between two lists.</span>"
   ]
  },
  {
   "cell_type": "code",
   "execution_count": null,
   "metadata": {},
   "outputs": [],
   "source": [
    "def common_Elements(A,B):\n",
    "    R = []\n",
    "    I = len(A)\n",
    "    J = len(B)\n",
    "    if I >= J:\n",
    "        C, D = B, A\n",
    "    else:\n",
    "        C, D = A, B\n",
    "    for x  in C:\n",
    "        if x in D:\n",
    "            R.append(x)       \n",
    "    return R\n",
    "\n",
    "t1 = [\"Pranith\", \"Krishna\", \"Lucky\", \"Sadvika\"]\n",
    "t2 = [\"Lucky\", \"Sadvika\", \"Nikhil\"]\n",
    "\n",
    "common_Elements = common_Elements(t1,t2)\n",
    "print(f\"Common Elements Both List: {common_Elements}\")"
   ]
  },
  {
   "cell_type": "markdown",
   "metadata": {},
   "source": [
    "<span style=\"font-family:Comic Sans MS; color:red\">8. Write a Python program to count the occurrences of a specific element in a list.</span>"
   ]
  },
  {
   "cell_type": "code",
   "execution_count": null,
   "metadata": {},
   "outputs": [],
   "source": [
    "def Check_Repeated(k):\n",
    "    l = set(k)\n",
    "    for x in l:\n",
    "        count = 0\n",
    "        for y in k:\n",
    "            if x == y:\n",
    "                count += 1\n",
    "        print(f\"{x} Repeated {count} times.\")\n",
    "\n",
    "k = [1,1,1,1,2,2,2,2,2,5,5,6,6,7,7,7,7,8,8,8,9,8,8,8,9,9,9,9,9,10,9]\n",
    "Check_Repeated(k)"
   ]
  },
  {
   "cell_type": "markdown",
   "metadata": {},
   "source": [
    "<span style=\"font-family:Comic Sans MS; color:red\">9. Write a Python program to reverse a string without using built-in functions.</span>"
   ]
  },
  {
   "cell_type": "code",
   "execution_count": null,
   "metadata": {},
   "outputs": [],
   "source": [
    "def reverse_string(k):\n",
    "    print(f\"for {k} as reverse order: {str(k)[::-1]}\")\n",
    "\n",
    "reverse_string(\"kranthi\")"
   ]
  },
  {
   "cell_type": "markdown",
   "metadata": {},
   "source": [
    "<span style=\"font-family:Comic Sans MS; color:red\">10.Write a Python program to find the second largest element in a list.</span>"
   ]
  },
  {
   "cell_type": "code",
   "execution_count": null,
   "metadata": {},
   "outputs": [],
   "source": [
    "k = [1, 3, 9]\n",
    "def find_largest(l):\n",
    "    max = l[0]\n",
    "    for x in l:\n",
    "        if x > max:\n",
    "            max = x\n",
    "    return max\n",
    "max= find_largest(k)\n",
    "k.remove(max)\n",
    "max= find_largest(k)\n",
    "print(\"Largest Value:\", max)"
   ]
  },
  {
   "cell_type": "markdown",
   "metadata": {},
   "source": [
    "<span style=\"font-family:Comic Sans MS; color:red\">11. Write a Python program to find the sum of digits of a given number.</span>"
   ]
  },
  {
   "cell_type": "code",
   "execution_count": null,
   "metadata": {},
   "outputs": [],
   "source": [
    "k = 567576\n",
    "s = 0\n",
    "for i in str(k):\n",
    "    s = s + int(i)\n",
    "print(f\"Sum of Digits in {k}: {s}\")"
   ]
  },
  {
   "cell_type": "markdown",
   "metadata": {},
   "source": [
    "<span style=\"font-family:Comic Sans MS; color:red\">12.Write a Python program to remove duplicates from a list.</span>"
   ]
  },
  {
   "cell_type": "code",
   "execution_count": null,
   "metadata": {},
   "outputs": [],
   "source": [
    "def removeDuplicates(k):\n",
    "    r = []\n",
    "    for x in k:\n",
    "        if x not in r:\n",
    "            r.append(x)\n",
    "    return r\n",
    "\n",
    "k = [1,1,1,1,2,2,2,2,2,5,5,6,6,7,7,7,7,8,8,8,9,8,8,8,9,9,9,9,9,10,9]\n",
    "unique_list = removeDuplicates(k)\n",
    "print(f\"unique list: {unique_list}\")"
   ]
  },
  {
   "cell_type": "markdown",
   "metadata": {},
   "source": [
    "<span style=\"font-family:Comic Sans MS; color:red\">13.Write a Python program to find the length of the longest consecutive sequence of a given list of integers.</span>"
   ]
  },
  {
   "cell_type": "code",
   "execution_count": null,
   "metadata": {},
   "outputs": [],
   "source": [
    "k = [5,5,6,6,7,7,7,7,8,8,8,9,8,8,8,9,9,9,9,9,10,9,1,1,1,1,2,2,2,2,2,3]\n",
    "def removeDuplicates(k):\n",
    "    r = []\n",
    "    for x in k:\n",
    "        if x not in r:\n",
    "            r.append(x)\n",
    "    return r\n",
    "def length_longest_consecutive_sequence(k):\n",
    "    x,y,z = 0,1,0\n",
    "    k = removeDuplicates(k)\n",
    "    while x < len(k) - 1:\n",
    "        if k[x] + 1 == k[x + 1]:\n",
    "            y += 1\n",
    "        else:\n",
    "            if z < y:\n",
    "                z = y\n",
    "        x += 1\n",
    "    return z\n",
    "\n",
    "z = length_longest_consecutive_sequence(k)\n",
    "print(f\"length of longest consecutive sequence: {z}\")\n"
   ]
  },
  {
   "cell_type": "markdown",
   "metadata": {},
   "source": [
    "<span style=\"font-family:Comic Sans MS; color:red\">14.Write a Python program to determine if a given year is a leap year or not.</span>"
   ]
  },
  {
   "cell_type": "code",
   "execution_count": null,
   "metadata": {},
   "outputs": [],
   "source": [
    "year = 2025\n",
    "\n",
    "def check_leap(year):\n",
    "    if (year % 4 == 0 and year % 100 != 0) or year % 400 == 0:\n",
    "        print(f\"Given {year} is a Leap Year.\")\n",
    "    else:\n",
    "        print(f\"Given {year} is not a Leap Year.\")\n",
    "\n",
    "check_leap(year)\n"
   ]
  },
  {
   "cell_type": "markdown",
   "metadata": {},
   "source": [
    "<span style=\"font-family:Comic Sans MS; color:red\">15.Write a Python program to find the square root of a given number.</span>"
   ]
  },
  {
   "cell_type": "code",
   "execution_count": null,
   "metadata": {},
   "outputs": [],
   "source": [
    "def squareroot(N):\n",
    "    result = N ** (1/2)\n",
    "    return result\n",
    "N = 9\n",
    "Result = squareroot(N)\n",
    "print(f\"square root of {N}: {Result}\")"
   ]
  },
  {
   "cell_type": "markdown",
   "metadata": {},
   "source": [
    "------------------------------------------------------------------------***SET-B***------------------------------------------------------------------------"
   ]
  },
  {
   "cell_type": "markdown",
   "metadata": {},
   "source": [
    "<span style=\"font-family:Comic Sans MS; color:red\">1. Write a Python program to find the largest sum of any two elements in a given list of integers.</span>"
   ]
  },
  {
   "cell_type": "code",
   "execution_count": null,
   "metadata": {},
   "outputs": [],
   "source": [
    "k = [1, 3, 9]\n",
    "def find_largest(l):\n",
    "    max = l[0]\n",
    "    for x in l:\n",
    "        if x > max:\n",
    "            max = x\n",
    "    return max\n",
    "max= find_largest(k)\n",
    "A = max\n",
    "k.remove(max)\n",
    "max= find_largest(k)\n",
    "print(\"Largest Sum of Two Elements in a list:\", A + max)"
   ]
  },
  {
   "cell_type": "markdown",
   "metadata": {},
   "source": [
    "<span style=\"font-family:Comic Sans MS; color:red\">2. Write a Python program to remove all the vowels from a given string.</span>"
   ]
  },
  {
   "cell_type": "code",
   "execution_count": null,
   "metadata": {},
   "outputs": [],
   "source": [
    "def removeVowels(j):\n",
    "    Vowels = ['a','e','i','o','u']\n",
    "    r= \"\"\n",
    "    for x in j:\n",
    "        if x.lower() in Vowels:\n",
    "            pass\n",
    "        else:\n",
    "            r += x \n",
    "    return r\n",
    "j = \"Sadvika\"\n",
    "result = removeVowels(j)\n",
    "result\n"
   ]
  },
  {
   "cell_type": "markdown",
   "metadata": {},
   "source": [
    "<span style=\"font-family:Comic Sans MS; color:red\">3. Write a Python program to find the common characters between two given\n",
    "strings.</span>"
   ]
  },
  {
   "cell_type": "code",
   "execution_count": null,
   "metadata": {},
   "outputs": [],
   "source": [
    "def common_Elements(A,B):\n",
    "    R = \"\"\n",
    "    I = len(A)\n",
    "    J = len(B)\n",
    "    if I >= J:\n",
    "        C, D = B.lower(), A.lower()\n",
    "    else:\n",
    "        C, D = A.lower(), B.lower()\n",
    "    for x  in C:\n",
    "        if x in D:\n",
    "            R += x      \n",
    "    return R\n",
    "\n",
    "t1 = \"Nikhil\"\n",
    "t2 = \"Lucky\"\n",
    "\n",
    "common_Elements = common_Elements(t1,t2)\n",
    "print(f\"Common Elements Both List: {common_Elements}\")"
   ]
  },
  {
   "cell_type": "markdown",
   "metadata": {},
   "source": [
    "<span style=\"font-family:Comic Sans MS; color:red\">4. Write a Python program to find the length of the longest word in a given\n",
    "sentence.</span>"
   ]
  },
  {
   "cell_type": "code",
   "execution_count": null,
   "metadata": {},
   "outputs": [],
   "source": [
    "def lengthOfLargestWord(k):\n",
    "    k = k.split()\n",
    "    length = 0\n",
    "    for i in k:\n",
    "        l = len(i)\n",
    "        if length < l:\n",
    "            length = l\n",
    "            largestWord = i\n",
    "    return largestWord, length\n",
    "\n",
    "largestWord, length =lengthOfLargestWord(\"Sadvika is Very Sadistic Fellow.\")\n",
    "print(f\"Longest Word in given Sentence '{largestWord}' and it's length: {length}\")"
   ]
  },
  {
   "cell_type": "markdown",
   "metadata": {},
   "source": [
    "<span style=\"font-family:Comic Sans MS; color:red\">5. Write a Python program to find the product of all the elements in a list.</span>"
   ]
  },
  {
   "cell_type": "code",
   "execution_count": null,
   "metadata": {},
   "outputs": [],
   "source": [
    "k = [1, 3, 9]\n",
    "s = 1\n",
    "for i in k:\n",
    "    s = s * i\n",
    "print(f\"Product of all Elements in {k}: {s}\")"
   ]
  },
  {
   "cell_type": "markdown",
   "metadata": {},
   "source": [
    "<span style=\"font-family:Comic Sans MS; color:red\">6. Write a Python program to check if a given word is a palindrome (i.e., reads the same forwards and backwards) by ignoring whitespaces and capitalization.</span>"
   ]
  },
  {
   "cell_type": "code",
   "execution_count": null,
   "metadata": {},
   "outputs": [],
   "source": [
    "def check_palindrome(k):\n",
    "    print(f\"{k} is a Palindrome.\") if (k.lower()).replace(\" \",\"\") == k[::-1].lower().replace(\" \",\"\") else print(f\"{k} is not a Palindrome.\")\n",
    "\n",
    "check_palindrome(\"Rada r\")"
   ]
  },
  {
   "cell_type": "markdown",
   "metadata": {},
   "source": [
    "<span style=\"font-family:Comic Sans MS; color:red\">7. Write a Python program to find the first non-repeated character in a given string.</span>"
   ]
  },
  {
   "cell_type": "code",
   "execution_count": null,
   "metadata": {},
   "outputs": [],
   "source": [
    "def Check_Repeated(k):\n",
    "    l = (k.lower().replace(\" \", \"\"))\n",
    "    k = []\n",
    "    for x in l:\n",
    "        c = 0\n",
    "        for y in l:\n",
    "            if x == y:\n",
    "                c += 1\n",
    "        if c <= 1:\n",
    "            k.append(x)\n",
    "    print(f\"first Non-Repeated Character: {k[0]}\")\n",
    "k = \"Sadvika is Very Sadistic Fellow.\"\n",
    "Check_Repeated(k)"
   ]
  },
  {
   "cell_type": "markdown",
   "metadata": {},
   "source": [
    "<span style=\"font-family:Comic Sans MS; color:red\">8. Write a Python program to check if a given list is sorted in ascending order.</span>"
   ]
  },
  {
   "cell_type": "code",
   "execution_count": null,
   "metadata": {},
   "outputs": [],
   "source": [
    "k=[1,2,72,5,3,4,5,2,1,5,3]\n",
    "k =[1, 1, 2, 2, 3, 3, 4, 5, 5, 5, 72]\n",
    "j = [1, 1, 2, 2, 3, 3, 4, 5, 5, 5, 72]\n",
    "\n",
    "def check_sorted(j,k):\n",
    "    D = []\n",
    "    while len(k) > 0:\n",
    "        max = k[0]\n",
    "        for x in k:\n",
    "            if x > max:\n",
    "                max = x\n",
    "        D.append(max)\n",
    "        k.remove(max)\n",
    "    if j == D[::-1]:\n",
    "        print(f\"Given List Sorted in Ascending Order\")\n",
    "    else:\n",
    "        print(f\"Given List is not Sorted in Ascending Order\")\n",
    "\n",
    "check_sorted(j,k)"
   ]
  },
  {
   "cell_type": "markdown",
   "metadata": {},
   "source": [
    "<span style=\"font-family:Comic Sans MS; color:red\">9. Write a Python program to find the sum of all even numbers in a given list of integers.</span>"
   ]
  },
  {
   "cell_type": "code",
   "execution_count": null,
   "metadata": {},
   "outputs": [],
   "source": [
    "k=[1,2,72,5,3,4,5,2,1,5,3]\n",
    "sum = 0\n",
    "for x in k:\n",
    "    if x % 2 == 0:\n",
    "        sum += x\n",
    "print(f\"sum of all even number from list: {sum}\")"
   ]
  },
  {
   "cell_type": "markdown",
   "metadata": {},
   "source": [
    "<span style=\"font-family:Comic Sans MS; color:red\">10.Write a Python program to check if two strings are anagrams (i.e., have the same characters with the same frequencies).</span>"
   ]
  },
  {
   "cell_type": "code",
   "execution_count": null,
   "metadata": {},
   "outputs": [],
   "source": [
    "a = \"listen\"\n",
    "b = \"silent\"\n",
    "c = []\n",
    "d = []\n",
    "for i in a:\n",
    "    c.append(i)\n",
    "for i in b:\n",
    "    d.append(i)\n",
    "if c.sort() == d.sort() and len(c) == len(d):\n",
    "    print(\"it's Anagram\")\n",
    "else:\n",
    "    print(\"it's not Anagram\")"
   ]
  },
  {
   "cell_type": "markdown",
   "metadata": {},
   "source": [
    "<span style=\"font-family:Comic Sans MS; color:red\">11. Write a Python program to rotate the elements of a list by a given number of positions to the right.</span>"
   ]
  },
  {
   "cell_type": "code",
   "execution_count": 5,
   "metadata": {},
   "outputs": [
    {
     "name": "stdout",
     "output_type": "stream",
     "text": [
      "32\n",
      "['a', 'd', 'v', 'k', 'a', ' ', 'V', 'r', 'y', ' ', 'a', 'd', 'i', 's', 't', 'i', 'c', ' ', 'F', 'e', 'l', 'o', 'w', '.', 'i', 'i', 'e', 's', ' ', 'l', 'S', 'S']\n"
     ]
    }
   ],
   "source": [
    "def rotateElements(l,n):\n",
    "    length = len(l)\n",
    "    print(length)\n",
    "    for i in range(0,length,n):\n",
    "        x = l[i]\n",
    "        y = x\n",
    "        l.remove(x)\n",
    "        l.append(y)\n",
    "    print(l)\n",
    "\n",
    "k = list(\"Sadvika is Very Sadistic Fellow.\")\n",
    "rotateElements(k,3)"
   ]
  },
  {
   "cell_type": "markdown",
   "metadata": {},
   "source": [
    "<span style=\"font-family:Comic Sans MS; color:red\">12.Write a Python program to find the common elements among three given lists.</span>"
   ]
  },
  {
   "cell_type": "code",
   "execution_count": null,
   "metadata": {},
   "outputs": [],
   "source": [
    "def common_Elements(A,B,C):\n",
    "    R = \"\"\n",
    "    I = len(A)\n",
    "    J = len(B)\n",
    "    K = len(C)\n",
    "    if I >= J and I >= K:\n",
    "        if J >= K:\n",
    "            D, E, F = C, B, A\n",
    "        D, E, F = B, C, A\n",
    "    elif J >= I and J >= K:\n",
    "        if I >= K:\n",
    "            D, E, F = C, A, B\n",
    "        D, E, F = A, C, B\n",
    "    else:\n",
    "        if I >= J:\n",
    "            D, E, F = B, A, C\n",
    "        D, E, F = A, B, C\n",
    "    for x  in D:\n",
    "        if x in E:\n",
    "            if x in F:\n",
    "                R += x      \n",
    "    return R\n",
    "\n",
    "t1 = list(\"Nikhil\".lower())\n",
    "t2 = list(\"Lucky\".lower())\n",
    "t3= list(\"Sadvika\".lower())\n",
    "\n",
    "common_Elements = common_Elements(t1,t2, t3)\n",
    "print(f\"Common Elements Both List: {common_Elements}\")"
   ]
  },
  {
   "cell_type": "markdown",
   "metadata": {},
   "source": [
    "<span style=\"font-family:Comic Sans MS; color:red\">13.Write a Python program to count the occurrences of each word in a given text.</span>"
   ]
  },
  {
   "cell_type": "code",
   "execution_count": null,
   "metadata": {},
   "outputs": [],
   "source": [
    "def Check_Repeated(k):\n",
    "    k = k.lower().replace(\",\",\"\").replace(\".\",\"\").split(\" \")\n",
    "    l = set(k)\n",
    "    for x in l:\n",
    "        count = 0\n",
    "        for y in k:\n",
    "            if x == y:\n",
    "                count += 1\n",
    "        print(f\"{x} Repeated {count} times.\")\n",
    "\n",
    "k = \"This fellow is Sadvika, Sadvika is Very Sadistic Fellow.\"\n",
    "Check_Repeated(k)"
   ]
  },
  {
   "cell_type": "markdown",
   "metadata": {},
   "source": [
    "<span style=\"font-family:Comic Sans MS; color:red\">14.Write a Python program to find the smallest missing positive integer in a given list of integers.</span>"
   ]
  },
  {
   "cell_type": "code",
   "execution_count": 6,
   "metadata": {},
   "outputs": [
    {
     "name": "stdout",
     "output_type": "stream",
     "text": [
      "Smallest Missing Positive Integer: 2\n"
     ]
    }
   ],
   "source": [
    "def smallest_missing_positive_integer(k):\n",
    "    r = []\n",
    "    k = list(set(k))\n",
    "    for i in range(len(k)-1):\n",
    "        if k[i] + 2 == k[i+1]:\n",
    "            r.append(k[i] + 1)\n",
    "    print(f\"Smallest Missing Positive Integer: {r[0]}\")\n",
    "k=[1,72,5,3,5,1,5,3]\n",
    "smallest_missing_positive_integer(k)"
   ]
  },
  {
   "cell_type": "markdown",
   "metadata": {},
   "source": [
    "<span style=\"font-family:Comic Sans MS; color:red\">15.Write a Python program to find the maximum occurring character in a given\n",
    "string.</span>"
   ]
  },
  {
   "cell_type": "code",
   "execution_count": 6,
   "metadata": {},
   "outputs": [
    {
     "name": "stdout",
     "output_type": "stream",
     "text": [
      "Maximum Occuring character is 's' for 7 times.\n"
     ]
    }
   ],
   "source": [
    "def max_Occuring_Character(k):\n",
    "    k = list(k.lower().replace(\" \",\"\"))\n",
    "    l = set(k)\n",
    "    max = 1\n",
    "    for x in l:\n",
    "        count = 0\n",
    "        for y in k:\n",
    "            if x == y:\n",
    "                count += 1\n",
    "        if max < count:\n",
    "            max = count\n",
    "            character = x\n",
    "    \n",
    "    print(f\"Maximum Occuring character is '{character}' for {max} times.\")\n",
    "\n",
    "k = \"This fellow is Sadvika, Sadvika is Very Sadistic Fellow.\"\n",
    "max_Occuring_Character(k)"
   ]
  }
 ],
 "metadata": {
  "kernelspec": {
   "display_name": "Python 3",
   "language": "python",
   "name": "python3"
  },
  "language_info": {
   "codemirror_mode": {
    "name": "ipython",
    "version": 3
   },
   "file_extension": ".py",
   "mimetype": "text/x-python",
   "name": "python",
   "nbconvert_exporter": "python",
   "pygments_lexer": "ipython3",
   "version": "3.11.7"
  }
 },
 "nbformat": 4,
 "nbformat_minor": 2
}
