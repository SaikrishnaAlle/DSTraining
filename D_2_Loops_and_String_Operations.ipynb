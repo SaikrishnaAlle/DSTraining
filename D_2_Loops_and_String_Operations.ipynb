{
 "cells": [
  {
   "cell_type": "markdown",
   "metadata": {},
   "source": [
    "<p align=\"center\"><span style=\"font-family:Comic Sans MS; color:red; font-size: 24px;\">Control Flow Statements in Python</span></p>"
   ]
  },
  {
   "cell_type": "markdown",
   "metadata": {},
   "source": [
    "<span style=\"font-family:Comic Sans MS; color:red\">1. Prime Numbers between 100 to 1000: Write a Python function to print all prime numbers between 100 to 1000.</span>"
   ]
  },
  {
   "cell_type": "code",
   "execution_count": null,
   "metadata": {},
   "outputs": [],
   "source": [
    "def primeNumbersFromTo(M,N):\n",
    "    k = [1,2,3,5,7]\n",
    "\n",
    "    for i in range(11,N+1):\n",
    "        c = 0\n",
    "        if i % 2 == 0 or i % 3 == 0 or i % 5 == 0 or i % 7 == 0:\n",
    "            pass\n",
    "        else:\n",
    "            for j in k:\n",
    "                if i % j == 0 and c <= 1:\n",
    "                    c += 1\n",
    "                    #print(f\"for {i} count:{c}\")\n",
    "            \n",
    "            if c == 1 and i >= M:\n",
    "                k.append(i)\n",
    "    \n",
    "    return M, N, k\n",
    "\n",
    "M, N, k = primeNumbersFromTo(100, 1000)\n",
    "print(f\"prime Numbers from {M} to {N}: {k[:]}\")"
   ]
  },
  {
   "cell_type": "markdown",
   "metadata": {},
   "source": [
    "<span style=\"font-family:Comic Sans MS; color:red\">2. Highest Factor between 100 to 200: Write a Python function to find the number with the highest number of factors between 100 and 200.</span>"
   ]
  },
  {
   "cell_type": "code",
   "execution_count": null,
   "metadata": {},
   "outputs": [],
   "source": [
    "def count_factors(n):\n",
    "    count = 0\n",
    "    for i in range(1, n + 1):\n",
    "        if n % i == 0:\n",
    "            count += 1\n",
    "    return count\n",
    "\n",
    "def number_with_highest_factors(start, end):\n",
    "    max_factors = 0\n",
    "    number = 0\n",
    "    for i in range(start, end + 1):\n",
    "        factors = count_factors(i)\n",
    "        if factors > max_factors:\n",
    "            max_factors = factors\n",
    "            number = i\n",
    "    return number, max_factors\n",
    "\n",
    "num, factors = number_with_highest_factors(100, 200)\n",
    "print(f\"The number with the highest number of factors between 100 and 200 is {num} with {factors} factors.\")\n"
   ]
  },
  {
   "cell_type": "markdown",
   "metadata": {},
   "source": [
    "<span style=\"font-family:Comic Sans MS; color:red\">3. Sum of Digits in 567576: Write a Python program to add all the digits of the number '567576'.</span>"
   ]
  },
  {
   "cell_type": "code",
   "execution_count": null,
   "metadata": {},
   "outputs": [],
   "source": [
    "k = 567576\n",
    "s = 0\n",
    "for i in str(k):\n",
    "    s = s + int(i)\n",
    "print(f\"Sum of Digits in {k}: {s}\")\n"
   ]
  },
  {
   "cell_type": "markdown",
   "metadata": {},
   "source": [
    "<span style=\"font-family:Comic Sans MS; color:red\">4. Slicing Even/Odd Check: Given a list of numbers from 1 to 50, write a program that slices the list into chunks of 10 and checks if each number in the chunk is even or odd.</span>"
   ]
  },
  {
   "cell_type": "code",
   "execution_count": null,
   "metadata": {},
   "outputs": [],
   "source": [
    "Num = list(range(1,51))\n",
    "c = 0\n",
    "for i in range(0,len(Num),10):\n",
    "    Nums = Num[i:i+10]\n",
    "    c += 1\n",
    "    print(f'chunk_{c}: {Nums}')\n",
    "    for N in Nums:\n",
    "        if N % 2 == 0:\n",
    "            print(f\"{N} is an Even Number.\")\n",
    "        else:\n",
    "            print(f\"{N} is an Odd Number.\")"
   ]
  },
  {
   "cell_type": "markdown",
   "metadata": {},
   "source": [
    "<span style=\"font-family:Comic Sans MS; color:red\">5. Reverse Slicing: Write a Python program to slice a list of characters from 'a' to 'z' in reverse order.</span>"
   ]
  },
  {
   "cell_type": "code",
   "execution_count": null,
   "metadata": {},
   "outputs": [],
   "source": [
    "k = ['A', 'B', 'C', 'D', 'E', 'F', 'G', 'H', 'I', 'J', 'K', 'L', 'M', 'N', 'O', 'P', 'Q', 'R', 'S', 'T', 'U', 'V', 'W', 'X', 'Y', 'Z']\n",
    "print(f\"alphabets: {k}\\nreverse_alphabets: {k[::-1]}\")"
   ]
  },
  {
   "cell_type": "markdown",
   "metadata": {},
   "source": [
    "<span style=\"font-family:Comic Sans MS; color:red\">6. Slicing Digits from String: Write a Python program to slice a string of random alphanumeric characters and print only the digits.</span>"
   ]
  },
  {
   "cell_type": "code",
   "execution_count": null,
   "metadata": {},
   "outputs": [],
   "source": [
    "def extract_digits(k):\n",
    "    digits = [s for s in k if s.isdigit()]\n",
    "    return ''.join(digits)\n",
    "\n",
    "# Example usage\n",
    "k = \"a1b2c3d4e5f6g7h8i9j0\"\n",
    "digits = extract_digits(k)\n",
    "print(f\"Extracted digits: {digits}\")"
   ]
  },
  {
   "cell_type": "markdown",
   "metadata": {},
   "source": [
    "<span style=\"font-family:Comic Sans MS; color:red\">7. Summing Sliced Elements: Given a list of integers, write a Python program to sum every third element using slicing.</span>"
   ]
  },
  {
   "cell_type": "code",
   "execution_count": null,
   "metadata": {},
   "outputs": [],
   "source": [
    "numbers = list(range(1, 101))\n",
    "s = 0\n",
    "for n in numbers[2::3]:\n",
    "    s = s + n\n",
    "\n",
    "print(f\"Summing Every Third Element from the list: {s}\")"
   ]
  },
  {
   "cell_type": "markdown",
   "metadata": {},
   "source": [
    "<span style=\"font-family:Comic Sans MS; color:red\">8. Palindrome Check: Write a Python function that checks if a given string is a palindrome.</span>"
   ]
  },
  {
   "cell_type": "code",
   "execution_count": null,
   "metadata": {},
   "outputs": [],
   "source": [
    "def check_palindrome(k):\n",
    "    print(f\"{k} is a Palindrome.\") if k.lower() == k[::-1].lower() else print(f\"{k} is not a Palindrome.\")\n",
    "\n",
    "check_palindrome(\"Radar\")"
   ]
  },
  {
   "cell_type": "markdown",
   "metadata": {},
   "source": [
    "<span style=\"font-family:Comic Sans MS; color:red\">9. Maximum and Minimum Summation: Write a Python program to find the maximum and minimum of the summation of digits of any number in a given list.</span>"
   ]
  },
  {
   "cell_type": "code",
   "execution_count": null,
   "metadata": {},
   "outputs": [],
   "source": [
    "numbers = [1,9,2,8,3,7,4,6,5]\n",
    "numbers.sort()\n",
    "print(f\"Maximum and Minimum Summation: {numbers[0] + numbers[-1]}\")"
   ]
  },
  {
   "cell_type": "markdown",
   "metadata": {},
   "source": [
    "<span style=\"font-family:Comic Sans MS; color:red\">10. Sorting: Write a Python program to sort a list of integers in ascending and descending order.</span>"
   ]
  },
  {
   "cell_type": "code",
   "execution_count": 2,
   "metadata": {},
   "outputs": [
    {
     "name": "stdout",
     "output_type": "stream",
     "text": [
      "Ascending Order: [1, 1, 2, 2, 3, 3, 3, 4, 5, 5, 5, 72]\n",
      "Descending Order: [72, 5, 5, 5, 4, 3, 3, 3, 2, 2, 1, 1]\n"
     ]
    }
   ],
   "source": [
    "l = [1,2,72,5,3,4,5,2,1,5,3]\n",
    "A, D = [], []\n",
    "\n",
    "while len(l) > 0:\n",
    "    max = l[0]\n",
    "    min = l[0]\n",
    "    for x in l:\n",
    "        if x > max:\n",
    "            max = x\n",
    "        if x < min:\n",
    "            min = x\n",
    "    D.append(max)\n",
    "    A.append(min)\n",
    "    l.remove(max)\n",
    "    if max != min:\n",
    "        l.remove(min)\n",
    "\n",
    "print(\"Ascending Order:\", A + D[::-1])\n",
    "print(\"Descending Order:\", D + A[::-1])\n",
    "\n"
   ]
  },
  {
   "cell_type": "markdown",
   "metadata": {},
   "source": [
    "<span style=\"font-family:Comic Sans MS; color:red\">11. Prime Slices: Write a Python function to generate slices of prime numbers between 1 and 100.</span>"
   ]
  },
  {
   "cell_type": "code",
   "execution_count": 46,
   "metadata": {},
   "outputs": [
    {
     "name": "stdout",
     "output_type": "stream",
     "text": [
      "[1, 2, 3, 5, 7, 11, 13, 17, 19, 23, 29, 31, 37, 41, 43, 47, 53, 59, 61, 67, 71, 73, 79, 83, 89, 97]\n",
      "Prime_Slice_1: [1, 2, 3, 5, 7]\n",
      "Prime_Slice_2: [11, 13, 17, 19]\n",
      "Prime_Slice_3: [23, 29]\n",
      "Prime_Slice_4: [31, 37]\n",
      "Prime_Slice_5: [41, 43, 47]\n",
      "Prime_Slice_6: [53, 59]\n",
      "Prime_Slice_7: [61, 67]\n",
      "Prime_Slice_8: [71, 73, 79]\n",
      "Prime_Slice_9: [83, 89]\n",
      "Prime_Slice_10: [97]\n"
     ]
    }
   ],
   "source": [
    "M, N, k = primeNumbersFromTo(1,100)\n",
    "print(k)\n",
    "A = 0\n",
    "i = 10\n",
    "B = 0\n",
    "while i <= 100:\n",
    "    S = []\n",
    "    for j in k:\n",
    "        if j <= i and j >= B:\n",
    "            S.append(j)\n",
    "    A += 1\n",
    "    B = i\n",
    "    i += 10\n",
    "\n",
    "    print(f\"Prime_Slice_{A}: {S}\")\n"
   ]
  },
  {
   "cell_type": "markdown",
   "metadata": {},
   "source": [
    "<span style=\"font-family:Comic Sans MS; color:red\">12. Slicing Strings in Loop: Write a Python program to iterate through a string and print every second character using slicing.</span>"
   ]
  },
  {
   "cell_type": "code",
   "execution_count": 48,
   "metadata": {},
   "outputs": [
    {
     "name": "stdout",
     "output_type": "stream",
     "text": [
      "['S', 'd', 'i', 'a', 'w', 'l', ' ', 'e', ' ', ' ', 'e', 'u', 'i', 'u', ' ', 'i', 'e']\n"
     ]
    }
   ],
   "source": [
    "k = \"Sadvika will Get a Beautiful Wife.\"\n",
    "result = []\n",
    "for i in k[::2]:\n",
    "    result.append(i)\n",
    "print(result)"
   ]
  },
  {
   "cell_type": "markdown",
   "metadata": {},
   "source": [
    "<span style=\"font-family:Comic Sans MS; color:red\">13. Checking Palindrome Slices: Write a Python function that checks if the sliced portions of a given string are palindromes.</span>"
   ]
  },
  {
   "cell_type": "code",
   "execution_count": 49,
   "metadata": {},
   "outputs": [
    {
     "name": "stdout",
     "output_type": "stream",
     "text": [
      "Sadvika is not a Palindrome.\n"
     ]
    }
   ],
   "source": [
    "k = \"Sadvika will Get a Beautiful Wife.\"\n",
    "s = k[:7]\n",
    "check_palindrome(s)"
   ]
  },
  {
   "cell_type": "markdown",
   "metadata": {},
   "source": [
    "<span style=\"font-family:Comic Sans MS; color:red\">14. Alphabet Slicing: Write a Python program to slice the alphabet string into parts and print parts containing only vowels.</span>"
   ]
  },
  {
   "cell_type": "code",
   "execution_count": 55,
   "metadata": {},
   "outputs": [
    {
     "name": "stdout",
     "output_type": "stream",
     "text": [
      "Unique aplabets in given string: {'B', 'l', 'i', 'S', 'd', ' ', 'w', 'k', 'e', 't', 'u', '.', 'v', 'W', 'f', 'G', 'a'}\n",
      "Vowels in Unique aplabets: {'e', 'i', 'a', 'u'}\n"
     ]
    }
   ],
   "source": [
    "k = \"Sadvika will Get a Beautiful Wife.\"\n",
    "s=[]\n",
    "for i in k:\n",
    "    s.append(i)\n",
    "print(f\"Unique aplabets in given string: {set(s)}\")\n",
    "t =[]\n",
    "for i in s:\n",
    "    if i.lower() in [\"a\", \"e\", \"i\", \"o\", \"u\"]:\n",
    "        t.append(i)\n",
    "print(f\"Vowels in Unique aplabets: {set(t)}\")"
   ]
  },
  {
   "cell_type": "markdown",
   "metadata": {},
   "source": [
    "<span style=\"font-family:Comic Sans MS; color:red\">15. Slicing and Reversing: Given a list of words, write a program to slice the list into halves and reverse each half.</span>"
   ]
  },
  {
   "cell_type": "code",
   "execution_count": 61,
   "metadata": {},
   "outputs": [
    {
     "name": "stdout",
     "output_type": "stream",
     "text": [
      "K1: Sadvika will Get a\n",
      "K2: Beautiful Wife.\n",
      "reverse_K1: a teG lliw akivdaS\n",
      "reverse_K2: .efiW lufituaeB\n"
     ]
    }
   ],
   "source": [
    "k = \"Sadvika will Get a Beautiful Wife.\"\n",
    "\n",
    "length = len(k)\n",
    "\n",
    "K1 = k[:(length // 2) + 1]\n",
    "K2 = k[(length // 2)+ 2:]\n",
    "print(f\"K1: {K1}\\nK2: {K2}\")\n",
    "print(f\"reverse_K1: {K1[::-1]}\\nreverse_K2: {K2[::-1]}\")"
   ]
  },
  {
   "cell_type": "code",
   "execution_count": 37,
   "metadata": {},
   "outputs": [
    {
     "name": "stdout",
     "output_type": "stream",
     "text": [
      "153 is an armstrong number.\n"
     ]
    }
   ],
   "source": [
    "k = 153\n",
    "s = 0\n",
    "for i in str(k):\n",
    "    s = s + int(i) ** 3\n",
    "if k == s:\n",
    "    print(f\"{k} is an armstrong number.\")\n",
    "else:\n",
    "    print(f\"{k} is not an armstrong number.\")"
   ]
  }
 ],
 "metadata": {
  "kernelspec": {
   "display_name": "Python 3",
   "language": "python",
   "name": "python3"
  },
  "language_info": {
   "codemirror_mode": {
    "name": "ipython",
    "version": 3
   },
   "file_extension": ".py",
   "mimetype": "text/x-python",
   "name": "python",
   "nbconvert_exporter": "python",
   "pygments_lexer": "ipython3",
   "version": "3.11.7"
  }
 },
 "nbformat": 4,
 "nbformat_minor": 2
}
