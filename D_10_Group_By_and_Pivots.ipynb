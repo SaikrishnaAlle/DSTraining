{
 "cells": [
  {
   "cell_type": "code",
   "execution_count": null,
   "metadata": {},
   "outputs": [],
   "source": [
    "!pip install pandas\n",
    "!pip install numpy"
   ]
  },
  {
   "cell_type": "code",
   "execution_count": null,
   "metadata": {},
   "outputs": [],
   "source": [
    "import pandas as pd\n",
    "import numpy as np\n",
    "pd.set_option('display.max_rows', 100)\n",
    "pd.set_option('display.max_columns', 100)"
   ]
  },
  {
   "cell_type": "code",
   "execution_count": null,
   "metadata": {},
   "outputs": [],
   "source": [
    "data = {\n",
    "    'order_id': np.arange(1, 11),\n",
    "    'customer_id': np.random.randint(1000, 1020, size=10),\n",
    "    'product_id': np.random.randint(200, 220, size=10),\n",
    "    'category': np.random.choice(['Electronics', 'Clothing', 'Books', 'Home'], size=10),\n",
    "    'quantity': np.random.randint(1, 5, size=10),\n",
    "    'price': np.round(np.random.uniform(10.0, 100.0, size=10), 2),\n",
    "    'order_date': pd.to_datetime(np.random.randint(int(pd.to_datetime('2024-07-22').value // 10**9), int(pd.to_datetime('2024-07-25').value // 10**9), 10), unit='s')\n",
    "\n",
    "}\n",
    "\n",
    "df = pd.DataFrame(data)\n",
    "df"
   ]
  },
  {
   "cell_type": "code",
   "execution_count": null,
   "metadata": {},
   "outputs": [],
   "source": [
    "grouped_single = df.groupby('category').agg(\n",
    "    total_quantity_sum=pd.NamedAgg(column='quantity', aggfunc='sum'),\n",
    "    total_quantity_min=pd.NamedAgg(column='quantity', aggfunc='min'),\n",
    "    total_quantity_max=pd.NamedAgg(column='quantity', aggfunc='max'),\n",
    "    total_revenue_sum=pd.NamedAgg(column='price', aggfunc='sum'),\n",
    "    total_revenue_min=pd.NamedAgg(column='price', aggfunc='min'),\n",
    "    total_revenue_max=pd.NamedAgg(column='price', aggfunc='max')\n",
    ")\n",
    "\n",
    "grouped_single"
   ]
  },
  {
   "cell_type": "code",
   "execution_count": null,
   "metadata": {},
   "outputs": [],
   "source": [
    "grouped_single = df.groupby('category').agg({\n",
    "    'quantity': ['sum', 'min', 'max'],\n",
    "    'price': ['sum', 'min', 'max']\n",
    "})\n",
    "\n",
    "# Flatten the MultiIndex columns\n",
    "grouped_single.columns = ['_'.join(col) for col in grouped_single.columns]\n",
    "\n",
    "grouped_single"
   ]
  },
  {
   "cell_type": "code",
   "execution_count": null,
   "metadata": {},
   "outputs": [],
   "source": [
    "grouped_multi = df.groupby(['category', 'customer_id']).agg(\n",
    "    total_quantity_sum=pd.NamedAgg(column='quantity', aggfunc='sum'),\n",
    "    total_quantity_min=pd.NamedAgg(column='quantity', aggfunc='min'),\n",
    "    total_quantity_max=pd.NamedAgg(column='quantity', aggfunc='max'),\n",
    "    total_revenue_sum=pd.NamedAgg(column='price', aggfunc='sum'),\n",
    "    total_revenue_min=pd.NamedAgg(column='price', aggfunc='min'),\n",
    "    total_revenue_max=pd.NamedAgg(column='price', aggfunc='max')\n",
    ")\n",
    "grouped_multi\n"
   ]
  },
  {
   "cell_type": "code",
   "execution_count": null,
   "metadata": {},
   "outputs": [],
   "source": [
    "grouped_multi = df.groupby(['category', 'customer_id']).agg({\n",
    "    'quantity': ['sum', 'min', 'max'],\n",
    "    'price': ['sum', 'min', 'max']\n",
    "})\n",
    "\n",
    "grouped_multi.columns = ['_'.join(col) for col in grouped_multi.columns]\n",
    "\n",
    "grouped_multi"
   ]
  },
  {
   "cell_type": "code",
   "execution_count": null,
   "metadata": {},
   "outputs": [],
   "source": [
    "pivot_df = df.pivot_table(index='order_date', columns='category', values='quantity', aggfunc='sum')\n",
    "pivot_df"
   ]
  },
  {
   "cell_type": "code",
   "execution_count": null,
   "metadata": {},
   "outputs": [],
   "source": [
    "pivot_df = df.pivot_table(index='order_date', columns='category', values=['quantity', 'price'], aggfunc='sum')\n",
    "pivot_df"
   ]
  },
  {
   "cell_type": "code",
   "execution_count": null,
   "metadata": {},
   "outputs": [],
   "source": [
    "melted_df = pd.melt(df, id_vars=['order_id', 'customer_id', 'product_id', 'category', 'order_date'],\n",
    "                    value_vars=['quantity', 'price'],\n",
    "                    var_name='metric', value_name='value')\n",
    "melted_df"
   ]
  },
  {
   "cell_type": "code",
   "execution_count": null,
   "metadata": {},
   "outputs": [],
   "source": [
    "melted_df = pd.melt(df, id_vars=['order_id', 'customer_id', 'product_id', 'category', 'order_date'],\n",
    "                    value_vars=['quantity', 'price'],\n",
    "                    var_name='metric', value_name='value')\n",
    "melted_df"
   ]
  },
  {
   "cell_type": "markdown",
   "metadata": {},
   "source": [
    "<span style=\"font-family:Comic Sans MS; color:red\">----------------------------------------------Assignment-----------------------------------------------</span> "
   ]
  },
  {
   "cell_type": "code",
   "execution_count": null,
   "metadata": {},
   "outputs": [],
   "source": [
    "import pandas as pd\n",
    "pd.set_option('display.max_rows', 500)\n",
    "pd.set_option('display.max_columns', 500)"
   ]
  },
  {
   "cell_type": "code",
   "execution_count": null,
   "metadata": {},
   "outputs": [],
   "source": [
    "df = pd.read_excel(\"files/superstore-subset.xlsx\")\n",
    "df"
   ]
  },
  {
   "cell_type": "markdown",
   "metadata": {},
   "source": [
    "<span style=\"font-family:Comic Sans MS; color:red\">1. Find the total sales for each combination of `Region` and `Category`.</span>"
   ]
  },
  {
   "cell_type": "code",
   "execution_count": null,
   "metadata": {},
   "outputs": [],
   "source": [
    "total_sales = df.groupby(['Region','Product Category']).agg({\n",
    "    'Sales': 'sum'\n",
    "})\n",
    "\n",
    "total_sales_asc = total_sales.sort_values(by = ['Region','Sales'], ascending = [True,True])\n",
    "\n",
    "total_sales_asc"
   ]
  },
  {
   "cell_type": "markdown",
   "metadata": {},
   "source": [
    "<span style=\"font-family:Comic Sans MS; color:red\">2. Calculate the average discount for each `Region` and `Segment`.</span>"
   ]
  },
  {
   "cell_type": "code",
   "execution_count": null,
   "metadata": {},
   "outputs": [],
   "source": [
    "Average_Discount = df.groupby(['Region','Customer Segment']).agg({\n",
    "    'Discount': 'mean'\n",
    "}).sort_values(by = ['Region','Discount'], ascending = [True,True])\n",
    "\n",
    "Average_Discount"
   ]
  },
  {
   "cell_type": "markdown",
   "metadata": {},
   "source": [
    "<span style=\"font-family:Comic Sans MS; color:red\">3. Determine the total quantity sold for each `Category` and `Sub-Category`.</span>"
   ]
  },
  {
   "cell_type": "code",
   "execution_count": null,
   "metadata": {},
   "outputs": [],
   "source": [
    "total_quantity = df.groupby(['Product Category', 'Product Sub-Category']).agg({\n",
    "    'Quantity ordered new': ['sum']\n",
    "}).sort_values(by= ['Product Category', 'Product Sub-Category', ('Quantity ordered new', 'sum')], ascending=[True, True, True])\n",
    "\n",
    "total_quantity.columns = ['_'.join(col) for col in total_quantity.columns]\n",
    "total_quantity"
   ]
  },
  {
   "cell_type": "markdown",
   "metadata": {},
   "source": [
    "<span style=\"font-family:Comic Sans MS; color:red\">4. Identify the maximum profit for each `State` and `Ship Mode`.</span>"
   ]
  },
  {
   "cell_type": "code",
   "execution_count": null,
   "metadata": {},
   "outputs": [],
   "source": [
    "max_profit = df.groupby(['State or Province', 'Ship Mode']).agg({\n",
    "    'Profit': ['max']\n",
    "}).sort_values(by=['State or Province', ('Profit', 'max')], ascending=[True, False])\n",
    "\n",
    "max_profit.columns = ['_'.join(col) for col in max_profit.columns]\n",
    "max_profit"
   ]
  },
  {
   "cell_type": "markdown",
   "metadata": {},
   "source": [
    "<span style=\"font-family:Comic Sans MS; color:red\">5. Sort the total sales for each combination of `Region` and `Category` in descending order.</span>"
   ]
  },
  {
   "cell_type": "code",
   "execution_count": null,
   "metadata": {},
   "outputs": [],
   "source": [
    "\n",
    "total_sales_desc = total_sales.sort_values(by = ['Region','Sales'], ascending = [True, False])\n",
    "total_sales_desc"
   ]
  },
  {
   "cell_type": "markdown",
   "metadata": {},
   "source": [
    "<span style=\"font-family:Comic Sans MS; color:red\">6. Compute the total sales and total profit for each `Segment` and `Ship Mode`.</span>"
   ]
  },
  {
   "cell_type": "code",
   "execution_count": null,
   "metadata": {},
   "outputs": [],
   "source": [
    "total_sales_and_total_profit = df.groupby(['Customer Segment','Ship Mode']).agg({\n",
    "    'Sales': 'sum',\n",
    "    'Profit': 'sum'\n",
    "})\n",
    "total_sales_and_total_profit"
   ]
  },
  {
   "cell_type": "markdown",
   "metadata": {},
   "source": [
    "<span style=\"font-family:Comic Sans MS; color:red\">7. Find the average sales for each combination of `Region`, `Category`, and `Segment`.</span>"
   ]
  },
  {
   "cell_type": "code",
   "execution_count": null,
   "metadata": {},
   "outputs": [],
   "source": [
    "Average_Sales = df.groupby(['Region','Product Category','Customer Segment']).agg({\n",
    "    'Sales': 'mean'\n",
    "})\n",
    "Average_Sales"
   ]
  },
  {
   "cell_type": "markdown",
   "metadata": {},
   "source": [
    "<span style=\"font-family:Comic Sans MS; color:red\">8. Determine the minimum sales value for each `Category` and `Sub-Category`.</span>"
   ]
  },
  {
   "cell_type": "code",
   "execution_count": null,
   "metadata": {},
   "outputs": [],
   "source": [
    "Minimun_Sales = df.groupby(['Product Category','Product Sub-Category']).agg({\n",
    "    'Sales': 'min',\n",
    "})\n",
    "Minimun_Sales"
   ]
  },
  {
   "cell_type": "markdown",
   "metadata": {},
   "source": [
    "<span style=\"font-family:Comic Sans MS; color:red\">9. Calculate the count of orders for each `Region` and `Ship Mode`.</span>"
   ]
  },
  {
   "cell_type": "code",
   "execution_count": null,
   "metadata": {},
   "outputs": [],
   "source": [
    "Count_of_Orders = df.groupby(['Region','Ship Mode']).agg({\n",
    "    'Sales': 'count'\n",
    "})\n",
    "Count_of_Orders"
   ]
  },
  {
   "cell_type": "markdown",
   "metadata": {},
   "source": [
    "<span style=\"font-family:Comic Sans MS; color:red\">10. Find the median sales for each combination of `Category` and `Segment`.</span>"
   ]
  },
  {
   "cell_type": "code",
   "execution_count": null,
   "metadata": {},
   "outputs": [],
   "source": [
    "median_sales = df.groupby(['Product Category','Customer Segment']).agg({\n",
    "    'Sales': 'median'\n",
    "})\n",
    "median_sales"
   ]
  },
  {
   "cell_type": "markdown",
   "metadata": {},
   "source": [
    "<span style=\"font-family:Comic Sans MS; color:red\">11. Create a pivot table to show the sum of sales for each `Category` and `Segment`.</span>"
   ]
  },
  {
   "cell_type": "code",
   "execution_count": null,
   "metadata": {},
   "outputs": [],
   "source": [
    "sum_of_sales= pd.pivot_table(df, \n",
    "                             index=['Product Category','Customer Segment'],\n",
    "                             values=['Sales'], \n",
    "                             aggfunc={'Sales': 'sum'})\n",
    "sum_of_sales"
   ]
  },
  {
   "cell_type": "markdown",
   "metadata": {},
   "source": [
    "<span style=\"font-family:Comic Sans MS; color:red\">12. Create a pivot table to show the mean profit for each `Region` and `Category`.</span>"
   ]
  },
  {
   "cell_type": "code",
   "execution_count": null,
   "metadata": {},
   "outputs": [],
   "source": [
    "Mean_Profit = pd.pivot_table(df,\n",
    "                             index= ['Region', 'Product Category'],\n",
    "                             values= ['Profit'],\n",
    "                             aggfunc= {'Profit': 'mean'}\n",
    "                             )\n",
    "Mean_Profit"
   ]
  },
  {
   "cell_type": "markdown",
   "metadata": {},
   "source": [
    "<span style=\"font-family:Comic Sans MS; color:red\">13. Create a pivot table to show the average discount for each `Segment` and `Ship Mode`.</span>"
   ]
  },
  {
   "cell_type": "code",
   "execution_count": null,
   "metadata": {},
   "outputs": [],
   "source": [
    "avg_discount = pd.pivot_table(df,\n",
    "                              index= ['Customer Segment','Ship Mode'],\n",
    "                              values= ['Discount'],\n",
    "                              aggfunc= {'Discount': 'mean'}\n",
    "                              )\n",
    "avg_discount"
   ]
  },
  {
   "cell_type": "markdown",
   "metadata": {},
   "source": [
    "<span style=\"font-family:Comic Sans MS; color:red\">14. Create a pivot table to show the sum of sales for each `State` and `Category`, sorted by total\n",
    "sales in descending order.</span>"
   ]
  },
  {
   "cell_type": "code",
   "execution_count": null,
   "metadata": {},
   "outputs": [],
   "source": [
    "sales = pd.pivot_table(df,\n",
    "                       index=['State or Province','Product Category'],\n",
    "                       values= ['Sales'],\n",
    "                       aggfunc={'Sales': 'sum'}\n",
    "                       ).sort_values(by=['State or Province','Sales'], ascending=[True, False])\n",
    "sales"
   ]
  },
  {
   "cell_type": "markdown",
   "metadata": {},
   "source": [
    "<span style=\"font-family:Comic Sans MS; color:red\">15. Create a pivot table to show the sum of both sales and profit for each `Category` and\n",
    "`Sub-Category`.</span>"
   ]
  },
  {
   "cell_type": "code",
   "execution_count": null,
   "metadata": {},
   "outputs": [],
   "source": [
    "sales_and_profits = pd.pivot_table(df,\n",
    "                                   index=['Product Category', 'Product Sub-Category'],\n",
    "                                   values=['Sales', 'Profit'],\n",
    "                                   aggfunc={\n",
    "                                        'Sales': 'sum',\n",
    "                                        'Profit': 'sum'\n",
    "                                   }\n",
    "                                   )\n",
    "sales_and_profits"
   ]
  },
  {
   "cell_type": "markdown",
   "metadata": {},
   "source": [
    "<span style=\"font-family:Comic Sans MS; color:red\">16. Calculate the total sales for each `State` and `Category`, then find the top 3 `States` with the\n",
    "highest total sales in each `Category`.</span>"
   ]
  },
  {
   "cell_type": "code",
   "execution_count": null,
   "metadata": {},
   "outputs": [],
   "source": [
    "total_sales = df.groupby(['State or Province','Product Category']).agg({\n",
    "    'Sales': 'sum'\n",
    "})\n",
    "\n",
    "Top_total_sales_desc = total_sales.sort_values(by = ['Sales'], ascending = [False]).head(3)\n",
    "Top_total_sales_desc"
   ]
  },
  {
   "cell_type": "markdown",
   "metadata": {},
   "source": [
    "<span style=\"font-family:Comic Sans MS; color:red\">17. Group by `Category` and `Sub-Category`, then calculate the percentage contribution of each\n",
    "`Sub-Category` to the total sales of its `Category`.</span>"
   ]
  },
  {
   "cell_type": "code",
   "execution_count": null,
   "metadata": {},
   "outputs": [],
   "source": [
    "subcatsales= df.groupby(['Product Category', 'Product Sub-Category']).agg({\n",
    "    'Sales': 'sum'\n",
    "}).reset_index()\n",
    "\n",
    "catsales= df.groupby(['Product Category']).agg({\n",
    "    'Sales': 'sum'\n",
    "}).reset_index()\n",
    "\n",
    "sales = pd.merge(subcatsales, catsales, on='Product Category', suffixes=('_subcat', '_cat'))\n",
    "sales['percentage'] = round((sales['Sales_subcat'] / sales['Sales_cat']) * 100, 2)\n",
    "\n",
    "sales"
   ]
  },
  {
   "cell_type": "markdown",
   "metadata": {},
   "source": [
    "<span style=\"font-family:Comic Sans MS; color:red\">18. For each `Region` and `Segment`, find the `Sub-Category` with the highest average profit.</span>"
   ]
  },
  {
   "cell_type": "code",
   "execution_count": null,
   "metadata": {},
   "outputs": [],
   "source": [
    "highest_avg_profit = df.groupby(['Region', 'Customer Segment', 'Product Sub-Category']).agg({\n",
    "    'Profit': 'mean'\n",
    "}).rename(columns={'Profit': 'Avg Profit'})\n",
    "highest_avg_profit_asc = highest_avg_profit.sort_values(by=['Region', 'Customer Segment', 'Avg Profit'], ascending=[True, True, False]).groupby(['Region', 'Customer Segment']).head(1)\n",
    "highest_avg_profit_asc\n",
    "\n",
    "#checking Logic: Regions and Customer Segment Unique Values are 4 and 4 Respectively so Result must be 4*4=16 Rows\n",
    "#len(highest_avg_profit_asc['Region'])"
   ]
  },
  {
   "cell_type": "markdown",
   "metadata": {},
   "source": [
    "<span style=\"font-family:Comic Sans MS; color:red\">19. Determine the total profit for each `State`, then find the `State` with the maximum total profit in\n",
    "each `Region`.</span>"
   ]
  },
  {
   "cell_type": "code",
   "execution_count": null,
   "metadata": {},
   "outputs": [],
   "source": [
    "Total_Profits = df.groupby(['State or Province']).agg({\n",
    "    'Profit': 'sum'\n",
    "})\n",
    "\n",
    "Total_Profits_Regions = df.groupby(['Region', 'State or Province']).agg({\n",
    "    'Profit': 'sum'\n",
    "}).reset_index()\n",
    "\n",
    "Total_Profits_Regions_desc = Total_Profits_Regions.sort_values(by=['Region','Profit'], ascending=[True, False]).groupby('Region').head(1)\n",
    "Total_Profits_Regions_desc"
   ]
  },
  {
   "cell_type": "markdown",
   "metadata": {},
   "source": [
    "<span style=\"font-family:Comic Sans MS; color:red\">20. Group by `Ship Mode` and `Segment`, then calculate the total sales, and also find the\n",
    "percentage share of each `Ship Mode` in the total sales of each `Segment`.</span>"
   ]
  },
  {
   "cell_type": "code",
   "execution_count": null,
   "metadata": {},
   "outputs": [],
   "source": [
    "total_sales_ship_mode = df.groupby(['Customer Segment','Ship Mode']).agg({\n",
    "    'Sales': 'sum'\n",
    "}).reset_index()\n",
    "\n",
    "total_sales_segment= df.groupby(['Customer Segment']).agg({\n",
    "    'Sales': 'sum'\n",
    "}).reset_index()\n",
    "\n",
    "total_sales = pd.merge(total_sales_ship_mode,total_sales_segment, on='Customer Segment', suffixes=('_ShipMode', '_CustomerSegment'))\n",
    "\n",
    "total_sales['percentage'] = (total_sales['Sales_ShipMode'] / total_sales['Sales_CustomerSegment']) * 100\n",
    "\n",
    "total_sales"
   ]
  }
 ],
 "metadata": {
  "kernelspec": {
   "display_name": "Python 3",
   "language": "python",
   "name": "python3"
  },
  "language_info": {
   "codemirror_mode": {
    "name": "ipython",
    "version": 3
   },
   "file_extension": ".py",
   "mimetype": "text/x-python",
   "name": "python",
   "nbconvert_exporter": "python",
   "pygments_lexer": "ipython3",
   "version": "3.11.7"
  }
 },
 "nbformat": 4,
 "nbformat_minor": 2
}
